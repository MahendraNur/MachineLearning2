{
  "nbformat": 4,
  "nbformat_minor": 0,
  "metadata": {
    "colab": {
      "provenance": []
    },
    "kernelspec": {
      "name": "python3",
      "display_name": "Python 3"
    },
    "language_info": {
      "name": "python"
    }
  },
  "cells": [
    {
      "cell_type": "markdown",
      "source": [
        "# Tahap 1: Pemahaman Data Awal (Initial Data Understanding)\n",
        "\n",
        "Mengapa Tahapan Ini Penting?\n",
        "Sebelum melakukan pembersihan atau pelatihan model, kita harus benar-benar memahami data yang kita miliki. Ini seperti seorang mekanik yang ingin memperbaiki mobil—tentu ia perlu tahu jenis, kondisi, dan bagian-bagian mobil sebelum mulai menyetel.\n",
        "\n",
        "Tahap ini membantu kita:\n",
        "- Mengenali struktur dan isi dataset\n",
        "- Menemukan nilai yang hilang atau mencurigakan\n",
        "- Memahami korelasi potensial antara fitur dengan target (transmission)\n",
        "- Memutuskan fitur mana yang relevan atau perlu dihapus\n",
        "\n"
      ],
      "metadata": {
        "id": "P5qnIEqQ_YOX"
      }
    },
    {
      "cell_type": "markdown",
      "source": [
        "# Deskripsi Sistem: Prediksi Jenis Transmisi Mobil Berdasarkan Fitur-Fitur Kendaraan\n",
        "\n",
        "1. Abstrak\n",
        "\n",
        "Sistem ini dirancang untuk memprediksi jenis transmisi mobil (Manual atau Automatic) berdasarkan sejumlah atribut mobil seperti tahun pembuatan, harga jual, jenis bahan bakar, dan nama/model mobil. Prediksi ini berguna bagi dealer, pembeli mobil bekas, maupun platform jual-beli mobil yang ingin memberikan informasi lebih cepat dan akurat mengenai spesifikasi mobil.\n",
        "\n",
        "2. Tujuan Sistem\n",
        "\n",
        "- Membantu klasifikasi otomatis jenis transmisi untuk mobil bekas\n",
        "- Meningkatkan efisiensi pencarian dan filter dalam aplikasi jual beli\n",
        "- Memberikan insight tren jenis transmisi berdasarkan spesifikasi mobil\n",
        "\n",
        "3. Metodologi dan Cara Kerja\n",
        "\n",
        "  1. Pengumpulan Data: Dataset mobil bekas dikumpulkan dari sumber publik (misalnya Kaggle).\n",
        "  2. Pra-pemrosesan: Dilakukan pembersihan data, encoding untuk data kategorikal, dan normalisasi numerik jika diperlukan.\n",
        "  3. Modeling: Menggunakan algoritma klasifikasi seperti Decision Tree, Random Forest, atau Logistic Regression untuk mempelajari pola dari data.\n",
        "  4. Evaluasi: Menilai akurasi prediksi model terhadap data test.\n",
        "  5. Output: Model akan memprediksi apakah mobil cenderung bertransmisi Manual atau Automatic berdasarkan input fitur.\n",
        "\n",
        "4. Atribut Kunci yang Dianalisis\n",
        "\n",
        "make_year → Tahun mobil diproduksi. Mobil yang lebih baru biasanya lebih banyak menggunakan transmisi otomatis, sedangkan mobil lama cenderung manual. Jadi, tahun produksi bisa menjadi indikator kuat.\n",
        "\n",
        "mileage_kmpl → Menggambarkan efisiensi bahan bakar. Transmisi otomatis dan manual dapat menghasilkan efisiensi yang berbeda tergantung mesin dan teknologi, sehingga bisa berpengaruh.\n",
        "\n",
        "engine_cc → Kapasitas mesin. Mesin dengan cc besar biasanya digunakan pada mobil performa tinggi, yang cenderung menggunakan transmisi otomatis. Jadi, fitur ini bisa berkorelasi dengan jenis transmisi.\n",
        "\n",
        "fuel_type → Jenis bahan bakar (bensin, solar, listrik, dll). Mobil listrik misalnya, hampir selalu otomatis. Jadi jenis bahan bakar bisa memberikan informasi tambahan terhadap tipe transmisi.\n",
        "\n",
        "brand → Merek mobil. Beberapa brand lebih sering memproduksi mobil otomatis atau manual tergantung segmentasi pasarnya. Jadi, brand bisa menjadi indikator kebiasaan desain.\n",
        "\n",
        "price_usd → Digunakan untuk Analisis Unvariant jadi lewat price_usd\n",
        "\n",
        "5. Atribut yang Diabaikan / Dihapus\n",
        "\n",
        "owner_count : Tidak langsung berhubungan dengan jenis transmisi\n",
        "\n",
        "accidents_reported : Korelasi terhadap transmisi lemah\n",
        "\n",
        "service_history : Banyak data kosong (null), dan juga tidak berpengaruh langsung\n",
        "\n",
        "insurance_valid : Status asuransi tidak berkaitan dengan jenis transmisi\n",
        "\n",
        "color : Warna mobil tidak logis memengaruhi sistem transmisi"
      ],
      "metadata": {
        "id": "CsMhStmL_r3m"
      }
    },
    {
      "cell_type": "markdown",
      "source": [
        "1. Persiapan & Import Library"
      ],
      "metadata": {
        "id": "MUnDS9zizeef"
      }
    },
    {
      "cell_type": "code",
      "execution_count": null,
      "metadata": {
        "colab": {
          "base_uri": "https://localhost:8080/"
        },
        "id": "ImjQIrzM5wqS",
        "outputId": "d4032171-4f6c-4ffb-b049-4156b3424e48"
      },
      "outputs": [
        {
          "output_type": "stream",
          "name": "stdout",
          "text": [
            "Requirement already satisfied: pandas in /usr/local/lib/python3.11/dist-packages (2.2.2)\n",
            "Requirement already satisfied: numpy in /usr/local/lib/python3.11/dist-packages (2.0.2)\n",
            "Requirement already satisfied: matplotlib in /usr/local/lib/python3.11/dist-packages (3.10.0)\n",
            "Requirement already satisfied: seaborn in /usr/local/lib/python3.11/dist-packages (0.13.2)\n",
            "Requirement already satisfied: python-dateutil>=2.8.2 in /usr/local/lib/python3.11/dist-packages (from pandas) (2.9.0.post0)\n",
            "Requirement already satisfied: pytz>=2020.1 in /usr/local/lib/python3.11/dist-packages (from pandas) (2025.2)\n",
            "Requirement already satisfied: tzdata>=2022.7 in /usr/local/lib/python3.11/dist-packages (from pandas) (2025.2)\n",
            "Requirement already satisfied: contourpy>=1.0.1 in /usr/local/lib/python3.11/dist-packages (from matplotlib) (1.3.3)\n",
            "Requirement already satisfied: cycler>=0.10 in /usr/local/lib/python3.11/dist-packages (from matplotlib) (0.12.1)\n",
            "Requirement already satisfied: fonttools>=4.22.0 in /usr/local/lib/python3.11/dist-packages (from matplotlib) (4.59.0)\n",
            "Requirement already satisfied: kiwisolver>=1.3.1 in /usr/local/lib/python3.11/dist-packages (from matplotlib) (1.4.8)\n",
            "Requirement already satisfied: packaging>=20.0 in /usr/local/lib/python3.11/dist-packages (from matplotlib) (25.0)\n",
            "Requirement already satisfied: pillow>=8 in /usr/local/lib/python3.11/dist-packages (from matplotlib) (11.3.0)\n",
            "Requirement already satisfied: pyparsing>=2.3.1 in /usr/local/lib/python3.11/dist-packages (from matplotlib) (3.2.3)\n",
            "Requirement already satisfied: six>=1.5 in /usr/local/lib/python3.11/dist-packages (from python-dateutil>=2.8.2->pandas) (1.17.0)\n"
          ]
        }
      ],
      "source": [
        "!pip install pandas numpy matplotlib seaborn\n",
        "\n",
        "import pandas as pd\n",
        "import numpy as np\n",
        "import matplotlib.pyplot as plt\n",
        "import seaborn as sns"
      ]
    },
    {
      "cell_type": "markdown",
      "source": [
        "2. Load Dataset"
      ],
      "metadata": {
        "id": "WAAttVSVzm5X"
      }
    },
    {
      "cell_type": "code",
      "source": [
        "from google.colab import files\n",
        "uploaded = files.upload()"
      ],
      "metadata": {
        "colab": {
          "base_uri": "https://localhost:8080/",
          "height": 73
        },
        "id": "M_uxy2oL5zyZ",
        "outputId": "55781838-623c-4f53-f3a9-a9c01366faa3"
      },
      "execution_count": null,
      "outputs": [
        {
          "output_type": "display_data",
          "data": {
            "text/plain": [
              "<IPython.core.display.HTML object>"
            ],
            "text/html": [
              "\n",
              "     <input type=\"file\" id=\"files-6c087f86-9539-4db5-8caa-6f79950d07a9\" name=\"files[]\" multiple disabled\n",
              "        style=\"border:none\" />\n",
              "     <output id=\"result-6c087f86-9539-4db5-8caa-6f79950d07a9\">\n",
              "      Upload widget is only available when the cell has been executed in the\n",
              "      current browser session. Please rerun this cell to enable.\n",
              "      </output>\n",
              "      <script>// Copyright 2017 Google LLC\n",
              "//\n",
              "// Licensed under the Apache License, Version 2.0 (the \"License\");\n",
              "// you may not use this file except in compliance with the License.\n",
              "// You may obtain a copy of the License at\n",
              "//\n",
              "//      http://www.apache.org/licenses/LICENSE-2.0\n",
              "//\n",
              "// Unless required by applicable law or agreed to in writing, software\n",
              "// distributed under the License is distributed on an \"AS IS\" BASIS,\n",
              "// WITHOUT WARRANTIES OR CONDITIONS OF ANY KIND, either express or implied.\n",
              "// See the License for the specific language governing permissions and\n",
              "// limitations under the License.\n",
              "\n",
              "/**\n",
              " * @fileoverview Helpers for google.colab Python module.\n",
              " */\n",
              "(function(scope) {\n",
              "function span(text, styleAttributes = {}) {\n",
              "  const element = document.createElement('span');\n",
              "  element.textContent = text;\n",
              "  for (const key of Object.keys(styleAttributes)) {\n",
              "    element.style[key] = styleAttributes[key];\n",
              "  }\n",
              "  return element;\n",
              "}\n",
              "\n",
              "// Max number of bytes which will be uploaded at a time.\n",
              "const MAX_PAYLOAD_SIZE = 100 * 1024;\n",
              "\n",
              "function _uploadFiles(inputId, outputId) {\n",
              "  const steps = uploadFilesStep(inputId, outputId);\n",
              "  const outputElement = document.getElementById(outputId);\n",
              "  // Cache steps on the outputElement to make it available for the next call\n",
              "  // to uploadFilesContinue from Python.\n",
              "  outputElement.steps = steps;\n",
              "\n",
              "  return _uploadFilesContinue(outputId);\n",
              "}\n",
              "\n",
              "// This is roughly an async generator (not supported in the browser yet),\n",
              "// where there are multiple asynchronous steps and the Python side is going\n",
              "// to poll for completion of each step.\n",
              "// This uses a Promise to block the python side on completion of each step,\n",
              "// then passes the result of the previous step as the input to the next step.\n",
              "function _uploadFilesContinue(outputId) {\n",
              "  const outputElement = document.getElementById(outputId);\n",
              "  const steps = outputElement.steps;\n",
              "\n",
              "  const next = steps.next(outputElement.lastPromiseValue);\n",
              "  return Promise.resolve(next.value.promise).then((value) => {\n",
              "    // Cache the last promise value to make it available to the next\n",
              "    // step of the generator.\n",
              "    outputElement.lastPromiseValue = value;\n",
              "    return next.value.response;\n",
              "  });\n",
              "}\n",
              "\n",
              "/**\n",
              " * Generator function which is called between each async step of the upload\n",
              " * process.\n",
              " * @param {string} inputId Element ID of the input file picker element.\n",
              " * @param {string} outputId Element ID of the output display.\n",
              " * @return {!Iterable<!Object>} Iterable of next steps.\n",
              " */\n",
              "function* uploadFilesStep(inputId, outputId) {\n",
              "  const inputElement = document.getElementById(inputId);\n",
              "  inputElement.disabled = false;\n",
              "\n",
              "  const outputElement = document.getElementById(outputId);\n",
              "  outputElement.innerHTML = '';\n",
              "\n",
              "  const pickedPromise = new Promise((resolve) => {\n",
              "    inputElement.addEventListener('change', (e) => {\n",
              "      resolve(e.target.files);\n",
              "    });\n",
              "  });\n",
              "\n",
              "  const cancel = document.createElement('button');\n",
              "  inputElement.parentElement.appendChild(cancel);\n",
              "  cancel.textContent = 'Cancel upload';\n",
              "  const cancelPromise = new Promise((resolve) => {\n",
              "    cancel.onclick = () => {\n",
              "      resolve(null);\n",
              "    };\n",
              "  });\n",
              "\n",
              "  // Wait for the user to pick the files.\n",
              "  const files = yield {\n",
              "    promise: Promise.race([pickedPromise, cancelPromise]),\n",
              "    response: {\n",
              "      action: 'starting',\n",
              "    }\n",
              "  };\n",
              "\n",
              "  cancel.remove();\n",
              "\n",
              "  // Disable the input element since further picks are not allowed.\n",
              "  inputElement.disabled = true;\n",
              "\n",
              "  if (!files) {\n",
              "    return {\n",
              "      response: {\n",
              "        action: 'complete',\n",
              "      }\n",
              "    };\n",
              "  }\n",
              "\n",
              "  for (const file of files) {\n",
              "    const li = document.createElement('li');\n",
              "    li.append(span(file.name, {fontWeight: 'bold'}));\n",
              "    li.append(span(\n",
              "        `(${file.type || 'n/a'}) - ${file.size} bytes, ` +\n",
              "        `last modified: ${\n",
              "            file.lastModifiedDate ? file.lastModifiedDate.toLocaleDateString() :\n",
              "                                    'n/a'} - `));\n",
              "    const percent = span('0% done');\n",
              "    li.appendChild(percent);\n",
              "\n",
              "    outputElement.appendChild(li);\n",
              "\n",
              "    const fileDataPromise = new Promise((resolve) => {\n",
              "      const reader = new FileReader();\n",
              "      reader.onload = (e) => {\n",
              "        resolve(e.target.result);\n",
              "      };\n",
              "      reader.readAsArrayBuffer(file);\n",
              "    });\n",
              "    // Wait for the data to be ready.\n",
              "    let fileData = yield {\n",
              "      promise: fileDataPromise,\n",
              "      response: {\n",
              "        action: 'continue',\n",
              "      }\n",
              "    };\n",
              "\n",
              "    // Use a chunked sending to avoid message size limits. See b/62115660.\n",
              "    let position = 0;\n",
              "    do {\n",
              "      const length = Math.min(fileData.byteLength - position, MAX_PAYLOAD_SIZE);\n",
              "      const chunk = new Uint8Array(fileData, position, length);\n",
              "      position += length;\n",
              "\n",
              "      const base64 = btoa(String.fromCharCode.apply(null, chunk));\n",
              "      yield {\n",
              "        response: {\n",
              "          action: 'append',\n",
              "          file: file.name,\n",
              "          data: base64,\n",
              "        },\n",
              "      };\n",
              "\n",
              "      let percentDone = fileData.byteLength === 0 ?\n",
              "          100 :\n",
              "          Math.round((position / fileData.byteLength) * 100);\n",
              "      percent.textContent = `${percentDone}% done`;\n",
              "\n",
              "    } while (position < fileData.byteLength);\n",
              "  }\n",
              "\n",
              "  // All done.\n",
              "  yield {\n",
              "    response: {\n",
              "      action: 'complete',\n",
              "    }\n",
              "  };\n",
              "}\n",
              "\n",
              "scope.google = scope.google || {};\n",
              "scope.google.colab = scope.google.colab || {};\n",
              "scope.google.colab._files = {\n",
              "  _uploadFiles,\n",
              "  _uploadFilesContinue,\n",
              "};\n",
              "})(self);\n",
              "</script> "
            ]
          },
          "metadata": {}
        },
        {
          "output_type": "stream",
          "name": "stdout",
          "text": [
            "Saving used_car_price_dataset.csv to used_car_price_dataset (9).csv\n"
          ]
        }
      ]
    },
    {
      "cell_type": "markdown",
      "source": [
        "# Menampilkan 5 baris pertama dari dataset"
      ],
      "metadata": {
        "id": "WiUs2c1Ozton"
      }
    },
    {
      "cell_type": "code",
      "source": [
        "df = pd.read_csv(\"used_car_price_dataset.csv\")\n",
        "print(\"Lima baris pertama dataset:\")\n",
        "df.head()"
      ],
      "metadata": {
        "colab": {
          "base_uri": "https://localhost:8080/",
          "height": 244
        },
        "id": "S-fv5T4n6NwQ",
        "outputId": "29caa92e-cadd-4273-80d9-41118f90d395"
      },
      "execution_count": null,
      "outputs": [
        {
          "output_type": "stream",
          "name": "stdout",
          "text": [
            "Lima baris pertama dataset:\n"
          ]
        },
        {
          "output_type": "execute_result",
          "data": {
            "text/plain": [
              "   make_year  mileage_kmpl  engine_cc fuel_type  owner_count  price_usd      brand transmission  color service_history  accidents_reported insurance_valid\n",
              "0       2001          8.17       4000    Petrol            4    8587.64  Chevrolet       Manual  White             NaN                   0              No\n",
              "1       2014         17.59       1500    Petrol            4    5943.50      Honda       Manual  Black             NaN                   0             Yes\n",
              "2       2023         18.09       2500    Diesel            5    9273.58        BMW    Automatic  Black            Full                   1             Yes\n",
              "3       2009         11.28        800    Petrol            1    6836.24    Hyundai       Manual   Blue            Full                   0             Yes\n",
              "4       2005         12.23       1000    Petrol            2    4625.79     Nissan    Automatic    Red            Full                   0             Yes"
            ],
            "text/html": [
              "\n",
              "  <div id=\"df-b64ff8d4-b64e-4004-ad05-22f69716852e\" class=\"colab-df-container\">\n",
              "    <div>\n",
              "<style scoped>\n",
              "    .dataframe tbody tr th:only-of-type {\n",
              "        vertical-align: middle;\n",
              "    }\n",
              "\n",
              "    .dataframe tbody tr th {\n",
              "        vertical-align: top;\n",
              "    }\n",
              "\n",
              "    .dataframe thead th {\n",
              "        text-align: right;\n",
              "    }\n",
              "</style>\n",
              "<table border=\"1\" class=\"dataframe\">\n",
              "  <thead>\n",
              "    <tr style=\"text-align: right;\">\n",
              "      <th></th>\n",
              "      <th>make_year</th>\n",
              "      <th>mileage_kmpl</th>\n",
              "      <th>engine_cc</th>\n",
              "      <th>fuel_type</th>\n",
              "      <th>owner_count</th>\n",
              "      <th>price_usd</th>\n",
              "      <th>brand</th>\n",
              "      <th>transmission</th>\n",
              "      <th>color</th>\n",
              "      <th>service_history</th>\n",
              "      <th>accidents_reported</th>\n",
              "      <th>insurance_valid</th>\n",
              "    </tr>\n",
              "  </thead>\n",
              "  <tbody>\n",
              "    <tr>\n",
              "      <th>0</th>\n",
              "      <td>2001</td>\n",
              "      <td>8.17</td>\n",
              "      <td>4000</td>\n",
              "      <td>Petrol</td>\n",
              "      <td>4</td>\n",
              "      <td>8587.64</td>\n",
              "      <td>Chevrolet</td>\n",
              "      <td>Manual</td>\n",
              "      <td>White</td>\n",
              "      <td>NaN</td>\n",
              "      <td>0</td>\n",
              "      <td>No</td>\n",
              "    </tr>\n",
              "    <tr>\n",
              "      <th>1</th>\n",
              "      <td>2014</td>\n",
              "      <td>17.59</td>\n",
              "      <td>1500</td>\n",
              "      <td>Petrol</td>\n",
              "      <td>4</td>\n",
              "      <td>5943.50</td>\n",
              "      <td>Honda</td>\n",
              "      <td>Manual</td>\n",
              "      <td>Black</td>\n",
              "      <td>NaN</td>\n",
              "      <td>0</td>\n",
              "      <td>Yes</td>\n",
              "    </tr>\n",
              "    <tr>\n",
              "      <th>2</th>\n",
              "      <td>2023</td>\n",
              "      <td>18.09</td>\n",
              "      <td>2500</td>\n",
              "      <td>Diesel</td>\n",
              "      <td>5</td>\n",
              "      <td>9273.58</td>\n",
              "      <td>BMW</td>\n",
              "      <td>Automatic</td>\n",
              "      <td>Black</td>\n",
              "      <td>Full</td>\n",
              "      <td>1</td>\n",
              "      <td>Yes</td>\n",
              "    </tr>\n",
              "    <tr>\n",
              "      <th>3</th>\n",
              "      <td>2009</td>\n",
              "      <td>11.28</td>\n",
              "      <td>800</td>\n",
              "      <td>Petrol</td>\n",
              "      <td>1</td>\n",
              "      <td>6836.24</td>\n",
              "      <td>Hyundai</td>\n",
              "      <td>Manual</td>\n",
              "      <td>Blue</td>\n",
              "      <td>Full</td>\n",
              "      <td>0</td>\n",
              "      <td>Yes</td>\n",
              "    </tr>\n",
              "    <tr>\n",
              "      <th>4</th>\n",
              "      <td>2005</td>\n",
              "      <td>12.23</td>\n",
              "      <td>1000</td>\n",
              "      <td>Petrol</td>\n",
              "      <td>2</td>\n",
              "      <td>4625.79</td>\n",
              "      <td>Nissan</td>\n",
              "      <td>Automatic</td>\n",
              "      <td>Red</td>\n",
              "      <td>Full</td>\n",
              "      <td>0</td>\n",
              "      <td>Yes</td>\n",
              "    </tr>\n",
              "  </tbody>\n",
              "</table>\n",
              "</div>\n",
              "    <div class=\"colab-df-buttons\">\n",
              "\n",
              "  <div class=\"colab-df-container\">\n",
              "    <button class=\"colab-df-convert\" onclick=\"convertToInteractive('df-b64ff8d4-b64e-4004-ad05-22f69716852e')\"\n",
              "            title=\"Convert this dataframe to an interactive table.\"\n",
              "            style=\"display:none;\">\n",
              "\n",
              "  <svg xmlns=\"http://www.w3.org/2000/svg\" height=\"24px\" viewBox=\"0 -960 960 960\">\n",
              "    <path d=\"M120-120v-720h720v720H120Zm60-500h600v-160H180v160Zm220 220h160v-160H400v160Zm0 220h160v-160H400v160ZM180-400h160v-160H180v160Zm440 0h160v-160H620v160ZM180-180h160v-160H180v160Zm440 0h160v-160H620v160Z\"/>\n",
              "  </svg>\n",
              "    </button>\n",
              "\n",
              "  <style>\n",
              "    .colab-df-container {\n",
              "      display:flex;\n",
              "      gap: 12px;\n",
              "    }\n",
              "\n",
              "    .colab-df-convert {\n",
              "      background-color: #E8F0FE;\n",
              "      border: none;\n",
              "      border-radius: 50%;\n",
              "      cursor: pointer;\n",
              "      display: none;\n",
              "      fill: #1967D2;\n",
              "      height: 32px;\n",
              "      padding: 0 0 0 0;\n",
              "      width: 32px;\n",
              "    }\n",
              "\n",
              "    .colab-df-convert:hover {\n",
              "      background-color: #E2EBFA;\n",
              "      box-shadow: 0px 1px 2px rgba(60, 64, 67, 0.3), 0px 1px 3px 1px rgba(60, 64, 67, 0.15);\n",
              "      fill: #174EA6;\n",
              "    }\n",
              "\n",
              "    .colab-df-buttons div {\n",
              "      margin-bottom: 4px;\n",
              "    }\n",
              "\n",
              "    [theme=dark] .colab-df-convert {\n",
              "      background-color: #3B4455;\n",
              "      fill: #D2E3FC;\n",
              "    }\n",
              "\n",
              "    [theme=dark] .colab-df-convert:hover {\n",
              "      background-color: #434B5C;\n",
              "      box-shadow: 0px 1px 3px 1px rgba(0, 0, 0, 0.15);\n",
              "      filter: drop-shadow(0px 1px 2px rgba(0, 0, 0, 0.3));\n",
              "      fill: #FFFFFF;\n",
              "    }\n",
              "  </style>\n",
              "\n",
              "    <script>\n",
              "      const buttonEl =\n",
              "        document.querySelector('#df-b64ff8d4-b64e-4004-ad05-22f69716852e button.colab-df-convert');\n",
              "      buttonEl.style.display =\n",
              "        google.colab.kernel.accessAllowed ? 'block' : 'none';\n",
              "\n",
              "      async function convertToInteractive(key) {\n",
              "        const element = document.querySelector('#df-b64ff8d4-b64e-4004-ad05-22f69716852e');\n",
              "        const dataTable =\n",
              "          await google.colab.kernel.invokeFunction('convertToInteractive',\n",
              "                                                    [key], {});\n",
              "        if (!dataTable) return;\n",
              "\n",
              "        const docLinkHtml = 'Like what you see? Visit the ' +\n",
              "          '<a target=\"_blank\" href=https://colab.research.google.com/notebooks/data_table.ipynb>data table notebook</a>'\n",
              "          + ' to learn more about interactive tables.';\n",
              "        element.innerHTML = '';\n",
              "        dataTable['output_type'] = 'display_data';\n",
              "        await google.colab.output.renderOutput(dataTable, element);\n",
              "        const docLink = document.createElement('div');\n",
              "        docLink.innerHTML = docLinkHtml;\n",
              "        element.appendChild(docLink);\n",
              "      }\n",
              "    </script>\n",
              "  </div>\n",
              "\n",
              "\n",
              "    <div id=\"df-e60e9a8c-145d-4f32-8af1-d6dec0648530\">\n",
              "      <button class=\"colab-df-quickchart\" onclick=\"quickchart('df-e60e9a8c-145d-4f32-8af1-d6dec0648530')\"\n",
              "                title=\"Suggest charts\"\n",
              "                style=\"display:none;\">\n",
              "\n",
              "<svg xmlns=\"http://www.w3.org/2000/svg\" height=\"24px\"viewBox=\"0 0 24 24\"\n",
              "     width=\"24px\">\n",
              "    <g>\n",
              "        <path d=\"M19 3H5c-1.1 0-2 .9-2 2v14c0 1.1.9 2 2 2h14c1.1 0 2-.9 2-2V5c0-1.1-.9-2-2-2zM9 17H7v-7h2v7zm4 0h-2V7h2v10zm4 0h-2v-4h2v4z\"/>\n",
              "    </g>\n",
              "</svg>\n",
              "      </button>\n",
              "\n",
              "<style>\n",
              "  .colab-df-quickchart {\n",
              "      --bg-color: #E8F0FE;\n",
              "      --fill-color: #1967D2;\n",
              "      --hover-bg-color: #E2EBFA;\n",
              "      --hover-fill-color: #174EA6;\n",
              "      --disabled-fill-color: #AAA;\n",
              "      --disabled-bg-color: #DDD;\n",
              "  }\n",
              "\n",
              "  [theme=dark] .colab-df-quickchart {\n",
              "      --bg-color: #3B4455;\n",
              "      --fill-color: #D2E3FC;\n",
              "      --hover-bg-color: #434B5C;\n",
              "      --hover-fill-color: #FFFFFF;\n",
              "      --disabled-bg-color: #3B4455;\n",
              "      --disabled-fill-color: #666;\n",
              "  }\n",
              "\n",
              "  .colab-df-quickchart {\n",
              "    background-color: var(--bg-color);\n",
              "    border: none;\n",
              "    border-radius: 50%;\n",
              "    cursor: pointer;\n",
              "    display: none;\n",
              "    fill: var(--fill-color);\n",
              "    height: 32px;\n",
              "    padding: 0;\n",
              "    width: 32px;\n",
              "  }\n",
              "\n",
              "  .colab-df-quickchart:hover {\n",
              "    background-color: var(--hover-bg-color);\n",
              "    box-shadow: 0 1px 2px rgba(60, 64, 67, 0.3), 0 1px 3px 1px rgba(60, 64, 67, 0.15);\n",
              "    fill: var(--button-hover-fill-color);\n",
              "  }\n",
              "\n",
              "  .colab-df-quickchart-complete:disabled,\n",
              "  .colab-df-quickchart-complete:disabled:hover {\n",
              "    background-color: var(--disabled-bg-color);\n",
              "    fill: var(--disabled-fill-color);\n",
              "    box-shadow: none;\n",
              "  }\n",
              "\n",
              "  .colab-df-spinner {\n",
              "    border: 2px solid var(--fill-color);\n",
              "    border-color: transparent;\n",
              "    border-bottom-color: var(--fill-color);\n",
              "    animation:\n",
              "      spin 1s steps(1) infinite;\n",
              "  }\n",
              "\n",
              "  @keyframes spin {\n",
              "    0% {\n",
              "      border-color: transparent;\n",
              "      border-bottom-color: var(--fill-color);\n",
              "      border-left-color: var(--fill-color);\n",
              "    }\n",
              "    20% {\n",
              "      border-color: transparent;\n",
              "      border-left-color: var(--fill-color);\n",
              "      border-top-color: var(--fill-color);\n",
              "    }\n",
              "    30% {\n",
              "      border-color: transparent;\n",
              "      border-left-color: var(--fill-color);\n",
              "      border-top-color: var(--fill-color);\n",
              "      border-right-color: var(--fill-color);\n",
              "    }\n",
              "    40% {\n",
              "      border-color: transparent;\n",
              "      border-right-color: var(--fill-color);\n",
              "      border-top-color: var(--fill-color);\n",
              "    }\n",
              "    60% {\n",
              "      border-color: transparent;\n",
              "      border-right-color: var(--fill-color);\n",
              "    }\n",
              "    80% {\n",
              "      border-color: transparent;\n",
              "      border-right-color: var(--fill-color);\n",
              "      border-bottom-color: var(--fill-color);\n",
              "    }\n",
              "    90% {\n",
              "      border-color: transparent;\n",
              "      border-bottom-color: var(--fill-color);\n",
              "    }\n",
              "  }\n",
              "</style>\n",
              "\n",
              "      <script>\n",
              "        async function quickchart(key) {\n",
              "          const quickchartButtonEl =\n",
              "            document.querySelector('#' + key + ' button');\n",
              "          quickchartButtonEl.disabled = true;  // To prevent multiple clicks.\n",
              "          quickchartButtonEl.classList.add('colab-df-spinner');\n",
              "          try {\n",
              "            const charts = await google.colab.kernel.invokeFunction(\n",
              "                'suggestCharts', [key], {});\n",
              "          } catch (error) {\n",
              "            console.error('Error during call to suggestCharts:', error);\n",
              "          }\n",
              "          quickchartButtonEl.classList.remove('colab-df-spinner');\n",
              "          quickchartButtonEl.classList.add('colab-df-quickchart-complete');\n",
              "        }\n",
              "        (() => {\n",
              "          let quickchartButtonEl =\n",
              "            document.querySelector('#df-e60e9a8c-145d-4f32-8af1-d6dec0648530 button');\n",
              "          quickchartButtonEl.style.display =\n",
              "            google.colab.kernel.accessAllowed ? 'block' : 'none';\n",
              "        })();\n",
              "      </script>\n",
              "    </div>\n",
              "\n",
              "    </div>\n",
              "  </div>\n"
            ],
            "application/vnd.google.colaboratory.intrinsic+json": {
              "type": "dataframe",
              "variable_name": "df",
              "summary": "{\n  \"name\": \"df\",\n  \"rows\": 10000,\n  \"fields\": [\n    {\n      \"column\": \"make_year\",\n      \"properties\": {\n        \"dtype\": \"number\",\n        \"std\": 8,\n        \"min\": 1995,\n        \"max\": 2023,\n        \"num_unique_values\": 29,\n        \"samples\": [\n          2008,\n          2000,\n          1997\n        ],\n        \"semantic_type\": \"\",\n        \"description\": \"\"\n      }\n    },\n    {\n      \"column\": \"mileage_kmpl\",\n      \"properties\": {\n        \"dtype\": \"number\",\n        \"std\": 5.025486481369579,\n        \"min\": 5.0,\n        \"max\": 35.0,\n        \"num_unique_values\": 2213,\n        \"samples\": [\n          8.1,\n          27.1,\n          25.4\n        ],\n        \"semantic_type\": \"\",\n        \"description\": \"\"\n      }\n    },\n    {\n      \"column\": \"engine_cc\",\n      \"properties\": {\n        \"dtype\": \"number\",\n        \"std\": 1291,\n        \"min\": 800,\n        \"max\": 5000,\n        \"num_unique_values\": 10,\n        \"samples\": [\n          3000,\n          1500,\n          2000\n        ],\n        \"semantic_type\": \"\",\n        \"description\": \"\"\n      }\n    },\n    {\n      \"column\": \"fuel_type\",\n      \"properties\": {\n        \"dtype\": \"category\",\n        \"num_unique_values\": 3,\n        \"samples\": [\n          \"Petrol\",\n          \"Diesel\",\n          \"Electric\"\n        ],\n        \"semantic_type\": \"\",\n        \"description\": \"\"\n      }\n    },\n    {\n      \"column\": \"owner_count\",\n      \"properties\": {\n        \"dtype\": \"number\",\n        \"std\": 1,\n        \"min\": 1,\n        \"max\": 5,\n        \"num_unique_values\": 5,\n        \"samples\": [\n          5,\n          3,\n          1\n        ],\n        \"semantic_type\": \"\",\n        \"description\": \"\"\n      }\n    },\n    {\n      \"column\": \"price_usd\",\n      \"properties\": {\n        \"dtype\": \"number\",\n        \"std\": 2795.270940344736,\n        \"min\": 1000.0,\n        \"max\": 17647.63,\n        \"num_unique_values\": 9906,\n        \"samples\": [\n          4048.04,\n          9168.78,\n          5729.1\n        ],\n        \"semantic_type\": \"\",\n        \"description\": \"\"\n      }\n    },\n    {\n      \"column\": \"brand\",\n      \"properties\": {\n        \"dtype\": \"category\",\n        \"num_unique_values\": 10,\n        \"samples\": [\n          \"Volkswagen\",\n          \"Honda\",\n          \"Tesla\"\n        ],\n        \"semantic_type\": \"\",\n        \"description\": \"\"\n      }\n    },\n    {\n      \"column\": \"transmission\",\n      \"properties\": {\n        \"dtype\": \"category\",\n        \"num_unique_values\": 2,\n        \"samples\": [\n          \"Automatic\",\n          \"Manual\"\n        ],\n        \"semantic_type\": \"\",\n        \"description\": \"\"\n      }\n    },\n    {\n      \"column\": \"color\",\n      \"properties\": {\n        \"dtype\": \"category\",\n        \"num_unique_values\": 6,\n        \"samples\": [\n          \"White\",\n          \"Black\"\n        ],\n        \"semantic_type\": \"\",\n        \"description\": \"\"\n      }\n    },\n    {\n      \"column\": \"service_history\",\n      \"properties\": {\n        \"dtype\": \"category\",\n        \"num_unique_values\": 2,\n        \"samples\": [\n          \"Partial\",\n          \"Full\"\n        ],\n        \"semantic_type\": \"\",\n        \"description\": \"\"\n      }\n    },\n    {\n      \"column\": \"accidents_reported\",\n      \"properties\": {\n        \"dtype\": \"number\",\n        \"std\": 0,\n        \"min\": 0,\n        \"max\": 5,\n        \"num_unique_values\": 6,\n        \"samples\": [\n          0,\n          1\n        ],\n        \"semantic_type\": \"\",\n        \"description\": \"\"\n      }\n    },\n    {\n      \"column\": \"insurance_valid\",\n      \"properties\": {\n        \"dtype\": \"category\",\n        \"num_unique_values\": 2,\n        \"samples\": [\n          \"Yes\",\n          \"No\"\n        ],\n        \"semantic_type\": \"\",\n        \"description\": \"\"\n      }\n    }\n  ]\n}"
            }
          },
          "metadata": {},
          "execution_count": 231
        }
      ]
    },
    {
      "cell_type": "markdown",
      "source": [
        "# Menampilkan informasi ringkas tentang DataFrame"
      ],
      "metadata": {
        "id": "704daH6Gzy-S"
      }
    },
    {
      "cell_type": "code",
      "source": [
        "print(\"\\nInformasi struktural dataset:\")\n",
        "df.info()"
      ],
      "metadata": {
        "colab": {
          "base_uri": "https://localhost:8080/"
        },
        "id": "hQy1JfSfzxjU",
        "outputId": "60169211-4b74-4ebf-86d0-750c492f7d4c"
      },
      "execution_count": null,
      "outputs": [
        {
          "output_type": "stream",
          "name": "stdout",
          "text": [
            "\n",
            "Informasi struktural dataset:\n",
            "<class 'pandas.core.frame.DataFrame'>\n",
            "RangeIndex: 10000 entries, 0 to 9999\n",
            "Data columns (total 12 columns):\n",
            " #   Column              Non-Null Count  Dtype  \n",
            "---  ------              --------------  -----  \n",
            " 0   make_year           10000 non-null  int64  \n",
            " 1   mileage_kmpl        10000 non-null  float64\n",
            " 2   engine_cc           10000 non-null  int64  \n",
            " 3   fuel_type           10000 non-null  object \n",
            " 4   owner_count         10000 non-null  int64  \n",
            " 5   price_usd           10000 non-null  float64\n",
            " 6   brand               10000 non-null  object \n",
            " 7   transmission        10000 non-null  object \n",
            " 8   color               10000 non-null  object \n",
            " 9   service_history     7962 non-null   object \n",
            " 10  accidents_reported  10000 non-null  int64  \n",
            " 11  insurance_valid     10000 non-null  object \n",
            "dtypes: float64(2), int64(4), object(6)\n",
            "memory usage: 937.6+ KB\n"
          ]
        }
      ]
    },
    {
      "cell_type": "markdown",
      "source": [
        "# Menampilkan jumlah baris dan kolom"
      ],
      "metadata": {
        "id": "P3PCzGtH6qsl"
      }
    },
    {
      "cell_type": "code",
      "source": [
        "print(f\"\\nDimensi dataset (baris, kolom): {df.shape}\")"
      ],
      "metadata": {
        "colab": {
          "base_uri": "https://localhost:8080/"
        },
        "id": "x7yKX2zq6oZj",
        "outputId": "2cad7945-661b-45e3-e980-41b6f5348686"
      },
      "execution_count": null,
      "outputs": [
        {
          "output_type": "stream",
          "name": "stdout",
          "text": [
            "\n",
            "Dimensi dataset (baris, kolom): (10000, 12)\n"
          ]
        }
      ]
    },
    {
      "cell_type": "markdown",
      "source": [
        "# Statistik Deskriptif pada Dataset Mobil\n",
        "Perintah df.describe() menghasilkan ringkasan statistik untuk kolom numerik dalam dataset mobil bekas.\n",
        "\n",
        "Tujuan: Memberikan wawasan awal terhadap karakteristik fitur-fitur numerik seperti tahun pembuatan, kapasitas mesin, dan efisiensi bahan bakar.\n",
        "\n",
        "Penjelasan Output:\n",
        "count: Jumlah data valid (tidak kosong/null). Menunjukkan kelengkapan data di tiap kolom.\n",
        "\n",
        "mean: Rata-rata dari kolom tersebut.\n",
        "Contoh: Rata-rata mileage_kmpl bisa memberi gambaran umum efisiensi bahan bakar kendaraan.\n",
        "\n",
        "std: Standar deviasi — menunjukkan seberapa bervariasi data.\n",
        "Misalnya, engine_cc dengan deviasi besar berarti banyak variasi ukuran mesin dalam dataset.\n",
        "\n",
        "min: Nilai minimum.\n",
        "Contoh: make_year minimum bisa menunjukkan tahun mobil tertua yang ada dalam dataset.\n",
        "\n",
        "25%, 50% (median), 75%: Kuartil yang membagi data menjadi empat bagian.\n",
        "Median (50%) dapat memberi gambaran titik tengah distribusi data.\n",
        "Perbedaan besar antara median dan mean bisa menunjukkan distribusi miring atau outlier.\n",
        "\n",
        "max: Nilai maksimum dalam kolom.\n",
        "Contoh: engine_cc tertinggi bisa jadi mobil sport atau SUV bertenaga besar."
      ],
      "metadata": {
        "id": "otnnLtcZ7ErX"
      }
    },
    {
      "cell_type": "code",
      "source": [
        "# Menampilkan statistik deskriptif untuk kolom numerik\n",
        "print(\"\\nStatistik deskriptif untuk kolom numerik:\")\n",
        "df.describe()"
      ],
      "metadata": {
        "colab": {
          "base_uri": "https://localhost:8080/",
          "height": 335
        },
        "id": "pJgMqjUo7RjZ",
        "outputId": "387ea0ae-5583-4803-8a64-a932210a2be2"
      },
      "execution_count": null,
      "outputs": [
        {
          "output_type": "stream",
          "name": "stdout",
          "text": [
            "\n",
            "Statistik deskriptif untuk kolom numerik:\n"
          ]
        },
        {
          "output_type": "execute_result",
          "data": {
            "text/plain": [
              "          make_year  mileage_kmpl     engine_cc   owner_count     price_usd  accidents_reported\n",
              "count  10000.000000  10000.000000  10000.000000  10000.000000  10000.000000        10000.000000\n",
              "mean    2009.206900     17.960753   2287.130000      3.003500   7179.754532            0.492200\n",
              "std        8.373858      5.025486   1291.276927      1.418904   2795.270940            0.694109\n",
              "min     1995.000000      5.000000    800.000000      1.000000   1000.000000            0.000000\n",
              "25%     2002.000000     14.540000   1200.000000      2.000000   5176.547500            0.000000\n",
              "50%     2009.000000     17.970000   1800.000000      3.000000   6961.260000            0.000000\n",
              "75%     2016.000000     21.352500   3000.000000      4.000000   8993.732500            1.000000\n",
              "max     2023.000000     35.000000   5000.000000      5.000000  17647.630000            5.000000"
            ],
            "text/html": [
              "\n",
              "  <div id=\"df-948f94d1-df51-435f-ba64-b0ab59dd711b\" class=\"colab-df-container\">\n",
              "    <div>\n",
              "<style scoped>\n",
              "    .dataframe tbody tr th:only-of-type {\n",
              "        vertical-align: middle;\n",
              "    }\n",
              "\n",
              "    .dataframe tbody tr th {\n",
              "        vertical-align: top;\n",
              "    }\n",
              "\n",
              "    .dataframe thead th {\n",
              "        text-align: right;\n",
              "    }\n",
              "</style>\n",
              "<table border=\"1\" class=\"dataframe\">\n",
              "  <thead>\n",
              "    <tr style=\"text-align: right;\">\n",
              "      <th></th>\n",
              "      <th>make_year</th>\n",
              "      <th>mileage_kmpl</th>\n",
              "      <th>engine_cc</th>\n",
              "      <th>owner_count</th>\n",
              "      <th>price_usd</th>\n",
              "      <th>accidents_reported</th>\n",
              "    </tr>\n",
              "  </thead>\n",
              "  <tbody>\n",
              "    <tr>\n",
              "      <th>count</th>\n",
              "      <td>10000.000000</td>\n",
              "      <td>10000.000000</td>\n",
              "      <td>10000.000000</td>\n",
              "      <td>10000.000000</td>\n",
              "      <td>10000.000000</td>\n",
              "      <td>10000.000000</td>\n",
              "    </tr>\n",
              "    <tr>\n",
              "      <th>mean</th>\n",
              "      <td>2009.206900</td>\n",
              "      <td>17.960753</td>\n",
              "      <td>2287.130000</td>\n",
              "      <td>3.003500</td>\n",
              "      <td>7179.754532</td>\n",
              "      <td>0.492200</td>\n",
              "    </tr>\n",
              "    <tr>\n",
              "      <th>std</th>\n",
              "      <td>8.373858</td>\n",
              "      <td>5.025486</td>\n",
              "      <td>1291.276927</td>\n",
              "      <td>1.418904</td>\n",
              "      <td>2795.270940</td>\n",
              "      <td>0.694109</td>\n",
              "    </tr>\n",
              "    <tr>\n",
              "      <th>min</th>\n",
              "      <td>1995.000000</td>\n",
              "      <td>5.000000</td>\n",
              "      <td>800.000000</td>\n",
              "      <td>1.000000</td>\n",
              "      <td>1000.000000</td>\n",
              "      <td>0.000000</td>\n",
              "    </tr>\n",
              "    <tr>\n",
              "      <th>25%</th>\n",
              "      <td>2002.000000</td>\n",
              "      <td>14.540000</td>\n",
              "      <td>1200.000000</td>\n",
              "      <td>2.000000</td>\n",
              "      <td>5176.547500</td>\n",
              "      <td>0.000000</td>\n",
              "    </tr>\n",
              "    <tr>\n",
              "      <th>50%</th>\n",
              "      <td>2009.000000</td>\n",
              "      <td>17.970000</td>\n",
              "      <td>1800.000000</td>\n",
              "      <td>3.000000</td>\n",
              "      <td>6961.260000</td>\n",
              "      <td>0.000000</td>\n",
              "    </tr>\n",
              "    <tr>\n",
              "      <th>75%</th>\n",
              "      <td>2016.000000</td>\n",
              "      <td>21.352500</td>\n",
              "      <td>3000.000000</td>\n",
              "      <td>4.000000</td>\n",
              "      <td>8993.732500</td>\n",
              "      <td>1.000000</td>\n",
              "    </tr>\n",
              "    <tr>\n",
              "      <th>max</th>\n",
              "      <td>2023.000000</td>\n",
              "      <td>35.000000</td>\n",
              "      <td>5000.000000</td>\n",
              "      <td>5.000000</td>\n",
              "      <td>17647.630000</td>\n",
              "      <td>5.000000</td>\n",
              "    </tr>\n",
              "  </tbody>\n",
              "</table>\n",
              "</div>\n",
              "    <div class=\"colab-df-buttons\">\n",
              "\n",
              "  <div class=\"colab-df-container\">\n",
              "    <button class=\"colab-df-convert\" onclick=\"convertToInteractive('df-948f94d1-df51-435f-ba64-b0ab59dd711b')\"\n",
              "            title=\"Convert this dataframe to an interactive table.\"\n",
              "            style=\"display:none;\">\n",
              "\n",
              "  <svg xmlns=\"http://www.w3.org/2000/svg\" height=\"24px\" viewBox=\"0 -960 960 960\">\n",
              "    <path d=\"M120-120v-720h720v720H120Zm60-500h600v-160H180v160Zm220 220h160v-160H400v160Zm0 220h160v-160H400v160ZM180-400h160v-160H180v160Zm440 0h160v-160H620v160ZM180-180h160v-160H180v160Zm440 0h160v-160H620v160Z\"/>\n",
              "  </svg>\n",
              "    </button>\n",
              "\n",
              "  <style>\n",
              "    .colab-df-container {\n",
              "      display:flex;\n",
              "      gap: 12px;\n",
              "    }\n",
              "\n",
              "    .colab-df-convert {\n",
              "      background-color: #E8F0FE;\n",
              "      border: none;\n",
              "      border-radius: 50%;\n",
              "      cursor: pointer;\n",
              "      display: none;\n",
              "      fill: #1967D2;\n",
              "      height: 32px;\n",
              "      padding: 0 0 0 0;\n",
              "      width: 32px;\n",
              "    }\n",
              "\n",
              "    .colab-df-convert:hover {\n",
              "      background-color: #E2EBFA;\n",
              "      box-shadow: 0px 1px 2px rgba(60, 64, 67, 0.3), 0px 1px 3px 1px rgba(60, 64, 67, 0.15);\n",
              "      fill: #174EA6;\n",
              "    }\n",
              "\n",
              "    .colab-df-buttons div {\n",
              "      margin-bottom: 4px;\n",
              "    }\n",
              "\n",
              "    [theme=dark] .colab-df-convert {\n",
              "      background-color: #3B4455;\n",
              "      fill: #D2E3FC;\n",
              "    }\n",
              "\n",
              "    [theme=dark] .colab-df-convert:hover {\n",
              "      background-color: #434B5C;\n",
              "      box-shadow: 0px 1px 3px 1px rgba(0, 0, 0, 0.15);\n",
              "      filter: drop-shadow(0px 1px 2px rgba(0, 0, 0, 0.3));\n",
              "      fill: #FFFFFF;\n",
              "    }\n",
              "  </style>\n",
              "\n",
              "    <script>\n",
              "      const buttonEl =\n",
              "        document.querySelector('#df-948f94d1-df51-435f-ba64-b0ab59dd711b button.colab-df-convert');\n",
              "      buttonEl.style.display =\n",
              "        google.colab.kernel.accessAllowed ? 'block' : 'none';\n",
              "\n",
              "      async function convertToInteractive(key) {\n",
              "        const element = document.querySelector('#df-948f94d1-df51-435f-ba64-b0ab59dd711b');\n",
              "        const dataTable =\n",
              "          await google.colab.kernel.invokeFunction('convertToInteractive',\n",
              "                                                    [key], {});\n",
              "        if (!dataTable) return;\n",
              "\n",
              "        const docLinkHtml = 'Like what you see? Visit the ' +\n",
              "          '<a target=\"_blank\" href=https://colab.research.google.com/notebooks/data_table.ipynb>data table notebook</a>'\n",
              "          + ' to learn more about interactive tables.';\n",
              "        element.innerHTML = '';\n",
              "        dataTable['output_type'] = 'display_data';\n",
              "        await google.colab.output.renderOutput(dataTable, element);\n",
              "        const docLink = document.createElement('div');\n",
              "        docLink.innerHTML = docLinkHtml;\n",
              "        element.appendChild(docLink);\n",
              "      }\n",
              "    </script>\n",
              "  </div>\n",
              "\n",
              "\n",
              "    <div id=\"df-cd3647cb-4285-49a3-a63b-d8a29db81239\">\n",
              "      <button class=\"colab-df-quickchart\" onclick=\"quickchart('df-cd3647cb-4285-49a3-a63b-d8a29db81239')\"\n",
              "                title=\"Suggest charts\"\n",
              "                style=\"display:none;\">\n",
              "\n",
              "<svg xmlns=\"http://www.w3.org/2000/svg\" height=\"24px\"viewBox=\"0 0 24 24\"\n",
              "     width=\"24px\">\n",
              "    <g>\n",
              "        <path d=\"M19 3H5c-1.1 0-2 .9-2 2v14c0 1.1.9 2 2 2h14c1.1 0 2-.9 2-2V5c0-1.1-.9-2-2-2zM9 17H7v-7h2v7zm4 0h-2V7h2v10zm4 0h-2v-4h2v4z\"/>\n",
              "    </g>\n",
              "</svg>\n",
              "      </button>\n",
              "\n",
              "<style>\n",
              "  .colab-df-quickchart {\n",
              "      --bg-color: #E8F0FE;\n",
              "      --fill-color: #1967D2;\n",
              "      --hover-bg-color: #E2EBFA;\n",
              "      --hover-fill-color: #174EA6;\n",
              "      --disabled-fill-color: #AAA;\n",
              "      --disabled-bg-color: #DDD;\n",
              "  }\n",
              "\n",
              "  [theme=dark] .colab-df-quickchart {\n",
              "      --bg-color: #3B4455;\n",
              "      --fill-color: #D2E3FC;\n",
              "      --hover-bg-color: #434B5C;\n",
              "      --hover-fill-color: #FFFFFF;\n",
              "      --disabled-bg-color: #3B4455;\n",
              "      --disabled-fill-color: #666;\n",
              "  }\n",
              "\n",
              "  .colab-df-quickchart {\n",
              "    background-color: var(--bg-color);\n",
              "    border: none;\n",
              "    border-radius: 50%;\n",
              "    cursor: pointer;\n",
              "    display: none;\n",
              "    fill: var(--fill-color);\n",
              "    height: 32px;\n",
              "    padding: 0;\n",
              "    width: 32px;\n",
              "  }\n",
              "\n",
              "  .colab-df-quickchart:hover {\n",
              "    background-color: var(--hover-bg-color);\n",
              "    box-shadow: 0 1px 2px rgba(60, 64, 67, 0.3), 0 1px 3px 1px rgba(60, 64, 67, 0.15);\n",
              "    fill: var(--button-hover-fill-color);\n",
              "  }\n",
              "\n",
              "  .colab-df-quickchart-complete:disabled,\n",
              "  .colab-df-quickchart-complete:disabled:hover {\n",
              "    background-color: var(--disabled-bg-color);\n",
              "    fill: var(--disabled-fill-color);\n",
              "    box-shadow: none;\n",
              "  }\n",
              "\n",
              "  .colab-df-spinner {\n",
              "    border: 2px solid var(--fill-color);\n",
              "    border-color: transparent;\n",
              "    border-bottom-color: var(--fill-color);\n",
              "    animation:\n",
              "      spin 1s steps(1) infinite;\n",
              "  }\n",
              "\n",
              "  @keyframes spin {\n",
              "    0% {\n",
              "      border-color: transparent;\n",
              "      border-bottom-color: var(--fill-color);\n",
              "      border-left-color: var(--fill-color);\n",
              "    }\n",
              "    20% {\n",
              "      border-color: transparent;\n",
              "      border-left-color: var(--fill-color);\n",
              "      border-top-color: var(--fill-color);\n",
              "    }\n",
              "    30% {\n",
              "      border-color: transparent;\n",
              "      border-left-color: var(--fill-color);\n",
              "      border-top-color: var(--fill-color);\n",
              "      border-right-color: var(--fill-color);\n",
              "    }\n",
              "    40% {\n",
              "      border-color: transparent;\n",
              "      border-right-color: var(--fill-color);\n",
              "      border-top-color: var(--fill-color);\n",
              "    }\n",
              "    60% {\n",
              "      border-color: transparent;\n",
              "      border-right-color: var(--fill-color);\n",
              "    }\n",
              "    80% {\n",
              "      border-color: transparent;\n",
              "      border-right-color: var(--fill-color);\n",
              "      border-bottom-color: var(--fill-color);\n",
              "    }\n",
              "    90% {\n",
              "      border-color: transparent;\n",
              "      border-bottom-color: var(--fill-color);\n",
              "    }\n",
              "  }\n",
              "</style>\n",
              "\n",
              "      <script>\n",
              "        async function quickchart(key) {\n",
              "          const quickchartButtonEl =\n",
              "            document.querySelector('#' + key + ' button');\n",
              "          quickchartButtonEl.disabled = true;  // To prevent multiple clicks.\n",
              "          quickchartButtonEl.classList.add('colab-df-spinner');\n",
              "          try {\n",
              "            const charts = await google.colab.kernel.invokeFunction(\n",
              "                'suggestCharts', [key], {});\n",
              "          } catch (error) {\n",
              "            console.error('Error during call to suggestCharts:', error);\n",
              "          }\n",
              "          quickchartButtonEl.classList.remove('colab-df-spinner');\n",
              "          quickchartButtonEl.classList.add('colab-df-quickchart-complete');\n",
              "        }\n",
              "        (() => {\n",
              "          let quickchartButtonEl =\n",
              "            document.querySelector('#df-cd3647cb-4285-49a3-a63b-d8a29db81239 button');\n",
              "          quickchartButtonEl.style.display =\n",
              "            google.colab.kernel.accessAllowed ? 'block' : 'none';\n",
              "        })();\n",
              "      </script>\n",
              "    </div>\n",
              "\n",
              "    </div>\n",
              "  </div>\n"
            ],
            "application/vnd.google.colaboratory.intrinsic+json": {
              "type": "dataframe",
              "summary": "{\n  \"name\": \"df\",\n  \"rows\": 8,\n  \"fields\": [\n    {\n      \"column\": \"make_year\",\n      \"properties\": {\n        \"dtype\": \"number\",\n        \"std\": 3008.8724459833466,\n        \"min\": 8.373858402221508,\n        \"max\": 10000.0,\n        \"num_unique_values\": 8,\n        \"samples\": [\n          2009.2069,\n          2009.0,\n          10000.0\n        ],\n        \"semantic_type\": \"\",\n        \"description\": \"\"\n      }\n    },\n    {\n      \"column\": \"mileage_kmpl\",\n      \"properties\": {\n        \"dtype\": \"number\",\n        \"std\": 3529.645056087201,\n        \"min\": 5.0,\n        \"max\": 10000.0,\n        \"num_unique_values\": 8,\n        \"samples\": [\n          17.960753,\n          17.97,\n          10000.0\n        ],\n        \"semantic_type\": \"\",\n        \"description\": \"\"\n      }\n    },\n    {\n      \"column\": \"engine_cc\",\n      \"properties\": {\n        \"dtype\": \"number\",\n        \"std\": 3063.8541896794177,\n        \"min\": 800.0,\n        \"max\": 10000.0,\n        \"num_unique_values\": 8,\n        \"samples\": [\n          2287.13,\n          1800.0,\n          10000.0\n        ],\n        \"semantic_type\": \"\",\n        \"description\": \"\"\n      }\n    },\n    {\n      \"column\": \"owner_count\",\n      \"properties\": {\n        \"dtype\": \"number\",\n        \"std\": 3534.5531718030743,\n        \"min\": 1.0,\n        \"max\": 10000.0,\n        \"num_unique_values\": 8,\n        \"samples\": [\n          3.0035,\n          3.0,\n          10000.0\n        ],\n        \"semantic_type\": \"\",\n        \"description\": \"\"\n      }\n    },\n    {\n      \"column\": \"price_usd\",\n      \"properties\": {\n        \"dtype\": \"number\",\n        \"std\": 5093.746641115454,\n        \"min\": 1000.0,\n        \"max\": 17647.63,\n        \"num_unique_values\": 8,\n        \"samples\": [\n          7179.754531999999,\n          6961.26,\n          10000.0\n        ],\n        \"semantic_type\": \"\",\n        \"description\": \"\"\n      }\n    },\n    {\n      \"column\": \"accidents_reported\",\n      \"properties\": {\n        \"dtype\": \"number\",\n        \"std\": 3535.1713334132105,\n        \"min\": 0.0,\n        \"max\": 10000.0,\n        \"num_unique_values\": 6,\n        \"samples\": [\n          10000.0,\n          0.4922,\n          5.0\n        ],\n        \"semantic_type\": \"\",\n        \"description\": \"\"\n      }\n    }\n  ]\n}"
            }
          },
          "metadata": {},
          "execution_count": 234
        }
      ]
    },
    {
      "cell_type": "markdown",
      "source": [
        "# Tahap 2: Pembersihan Data (Data Cleaning)\n",
        "\n",
        "Mengapa Tahapan Ini Penting?\n",
        "Ini adalah fase di mana kita secara aktif memperbaiki dan menyaring data mentah agar siap digunakan oleh algoritma Machine Learning. Model tidak bisa membedakan mana data yang masuk akal dan mana yang penuh kesalahan—itu tugas kita.\n",
        "\n",
        "Tahapan pembersihan ini meningkatkan kualitas, akurasi, dan keandalan prediksi dengan memastikan model hanya belajar dari informasi yang benar dan relevan, bukan dari data yang tidak konsisten, salah, atau tidak bermakna.\n",
        "\n",
        "Implementasi di Google Colab: Pembersihan Data Mobil\n",
        "\n",
        "Kita akan melakukan beberapa tahapan pembersihan data secara sistematis, termasuk penggantian nama kolom, penanganan nilai kosong, penghapusan fitur yang tidak relevan, dan sebagainya.\n",
        "\n",
        "2.1. Penggantian Nama Kolom (Column Renaming)\n",
        "Pentingnya:\n",
        "Nama kolom seperti acc_rptd atau own_ct mungkin singkat, tapi tidak jelas artinya. Nama yang deskriptif seperti accidents_reported atau owner_count lebih mudah dipahami dan membuat kode lebih terbaca, baik oleh diri kita sendiri di masa depan maupun oleh rekan tim lain.\n",
        "\n",
        "Strategi:\n",
        "Kita membuat kamus (dictionary) Python yang memetakan nama-nama lama ke nama-nama baru yang lebih jelas. Lalu kita gunakan metode .rename() pada DataFrame."
      ],
      "metadata": {
        "id": "PmDM5jeF79Ga"
      }
    },
    {
      "cell_type": "code",
      "source": [
        "# Pemetaan nama\n",
        "column_mapping = {\n",
        "    'make_year': 'Make_Year',\n",
        "    'mileage_kmpl': 'Mileage_Kmpl',\n",
        "    'engine_cc': 'Engine_CC',\n",
        "    'fuel_type': 'Fuel_Type',\n",
        "    'owner_count': 'Owner_Count',\n",
        "    'price_usd': 'Price_USD',\n",
        "    'brand': 'Brand',\n",
        "    'transmission': 'Transmission',\n",
        "    'color': 'Color',\n",
        "    'service_history': 'Service_History',\n",
        "    'accidents_reported': 'Accidents_Reported',\n",
        "    'insurance_valid': 'Insurance_Valid'\n",
        "}\n",
        "\n",
        "# Ubah nama kolom\n",
        "df.rename(columns=column_mapping, inplace=True)\n",
        "\n",
        "print(\"Nama kolom setelah diubah:\")\n",
        "print(df.columns)\n"
      ],
      "metadata": {
        "colab": {
          "base_uri": "https://localhost:8080/"
        },
        "id": "tPG33Gqv8wv_",
        "outputId": "aad5d1df-47cb-475f-9494-9136d521081b"
      },
      "execution_count": null,
      "outputs": [
        {
          "output_type": "stream",
          "name": "stdout",
          "text": [
            "Nama kolom setelah diubah:\n",
            "Index(['Make_Year', 'Mileage_Kmpl', 'Engine_CC', 'Fuel_Type', 'Owner_Count',\n",
            "       'Price_USD', 'Brand', 'Transmission', 'Color', 'Service_History',\n",
            "       'Accidents_Reported', 'Insurance_Valid'],\n",
            "      dtype='object')\n"
          ]
        }
      ]
    },
    {
      "cell_type": "code",
      "source": [
        "print(\"\\nInformasi struktural dataset:\")\n",
        "df.info()"
      ],
      "metadata": {
        "colab": {
          "base_uri": "https://localhost:8080/"
        },
        "id": "0aytHasg-LcK",
        "outputId": "76e395be-3233-4393-8667-c04a6f627c1b"
      },
      "execution_count": null,
      "outputs": [
        {
          "output_type": "stream",
          "name": "stdout",
          "text": [
            "\n",
            "Informasi struktural dataset:\n",
            "<class 'pandas.core.frame.DataFrame'>\n",
            "RangeIndex: 10000 entries, 0 to 9999\n",
            "Data columns (total 12 columns):\n",
            " #   Column              Non-Null Count  Dtype  \n",
            "---  ------              --------------  -----  \n",
            " 0   Make_Year           10000 non-null  int64  \n",
            " 1   Mileage_Kmpl        10000 non-null  float64\n",
            " 2   Engine_CC           10000 non-null  int64  \n",
            " 3   Fuel_Type           10000 non-null  object \n",
            " 4   Owner_Count         10000 non-null  int64  \n",
            " 5   Price_USD           10000 non-null  float64\n",
            " 6   Brand               10000 non-null  object \n",
            " 7   Transmission        10000 non-null  object \n",
            " 8   Color               10000 non-null  object \n",
            " 9   Service_History     7962 non-null   object \n",
            " 10  Accidents_Reported  10000 non-null  int64  \n",
            " 11  Insurance_Valid     10000 non-null  object \n",
            "dtypes: float64(2), int64(4), object(6)\n",
            "memory usage: 937.6+ KB\n"
          ]
        }
      ]
    },
    {
      "cell_type": "markdown",
      "source": [
        "# 2.2. Penghapusan Kolom yang Tidak Relevan (Dropping Irrelevant Columns)\n",
        "\n",
        "Pentingnya: Tidak semua data berguna. Beberapa kolom justru dapat menurunkan performa model.\n",
        "\n",
        "- owner_count : Tidak memiliki hubungan langsung dengan sistem transmisi. Banyak atau sedikitnya pemilik sebelumnya tidak memengaruhi jenis transmisi mobil.\n",
        "\n",
        "- accidents_reported : Jumlah kecelakaan yang pernah terjadi pada mobil. Korelasi dengan transmisi sangat lemah, dan bisa jadi data ini lebih cocok untuk analisis risiko atau nilai jual kembali.\n",
        "\n",
        "- service_history : Riwayat servis. Banyak nilai kosong (missing/NaN), dan secara langsung tidak menunjukkan hubungan kuat dengan jenis transmisi.\n",
        "\n",
        "- insurance_valid : Status asuransi aktif atau tidak. Ini lebih bersifat administratif dan tidak berkaitan dengan teknologi transmisi kendaraan.\n",
        "\n",
        "- color : Warna mobil. Secara logika, warna tidak mungkin memengaruhi jenis transmisi, sehingga diabaikan dalam analisis.\n",
        "\n",
        "Strategi: Kita buat daftar berisi nama-nama kolom yang akan dihapus, lalu gunakan metode .drop()."
      ],
      "metadata": {
        "id": "znFArwr8_ANK"
      }
    },
    {
      "cell_type": "code",
      "source": [
        "# Daftar kolom yang ingin dihapus karena tidak relevan terhadap prediksi transmisi\n",
        "columns_to_drop = [\n",
        "    'Owner_Count',         # Tidak langsung berhubungan dengan jenis transmisi\n",
        "    'Accidents_Reported',  # Korelasi terhadap transmisi lemah\n",
        "    'Service_History',     # Banyak data kosong (null), dan tidak berpengaruh langsung\n",
        "    'Insurance_Valid',     # Status asuransi tidak berkaitan dengan jenis transmisi\n",
        "    'Brand',               # Sulit untuk mengetahui jika lewat nama\n",
        "    'Color',               # Warna mobil tidak logis memengaruhi sistem transmisi\n",
        "]\n",
        "\n",
        "# Menghapus kolom-kolom tersebut dari DataFrame\n",
        "df.drop(columns=columns_to_drop, inplace=True)\n",
        "\n",
        "# Menampilkan informasi setelah penghapusan\n",
        "print(f\"\\nJumlah kolom setelah penghapusan: {df.shape[1]}\")\n",
        "print(\"Kolom yang tersisa:\")\n",
        "print(df.columns)\n"
      ],
      "metadata": {
        "colab": {
          "base_uri": "https://localhost:8080/"
        },
        "id": "Yf3nul4vANJ0",
        "outputId": "df04b9be-12a6-4bab-84e7-f34de772beb1"
      },
      "execution_count": null,
      "outputs": [
        {
          "output_type": "stream",
          "name": "stdout",
          "text": [
            "\n",
            "Jumlah kolom setelah penghapusan: 6\n",
            "Kolom yang tersisa:\n",
            "Index(['Make_Year', 'Mileage_Kmpl', 'Engine_CC', 'Fuel_Type', 'Price_USD',\n",
            "       'Transmission'],\n",
            "      dtype='object')\n"
          ]
        }
      ]
    },
    {
      "cell_type": "code",
      "source": [
        "print(\"\\nInformasi struktural dataset:\")\n",
        "df.info()"
      ],
      "metadata": {
        "colab": {
          "base_uri": "https://localhost:8080/"
        },
        "id": "EDIifh6VAp-r",
        "outputId": "f1c417dd-d812-4043-9fbf-055913690ec6"
      },
      "execution_count": null,
      "outputs": [
        {
          "output_type": "stream",
          "name": "stdout",
          "text": [
            "\n",
            "Informasi struktural dataset:\n",
            "<class 'pandas.core.frame.DataFrame'>\n",
            "RangeIndex: 10000 entries, 0 to 9999\n",
            "Data columns (total 6 columns):\n",
            " #   Column        Non-Null Count  Dtype  \n",
            "---  ------        --------------  -----  \n",
            " 0   Make_Year     10000 non-null  int64  \n",
            " 1   Mileage_Kmpl  10000 non-null  float64\n",
            " 2   Engine_CC     10000 non-null  int64  \n",
            " 3   Fuel_Type     10000 non-null  object \n",
            " 4   Price_USD     10000 non-null  float64\n",
            " 5   Transmission  10000 non-null  object \n",
            "dtypes: float64(2), int64(2), object(2)\n",
            "memory usage: 468.9+ KB\n"
          ]
        }
      ]
    },
    {
      "cell_type": "markdown",
      "source": [
        "# 2.3. Penanganan Nilai yang Hilang (Handling Missing Values)\n",
        "\n",
        "Pentingnya: Sebagian besar algoritma machine learning tidak dapat memproses data yang mengandung nilai NaN (Not a Number). Mengabaikannya akan menyebabkan error. Menghapus baris yang memiliki nilai hilang bisa menjadi pilihan, tetapi jika data yang hilang banyak, kita akan kehilangan informasi berharga. Oleh karena itu, kita perlu strategi pengisian (imputation) yang cerdas.\n",
        "\n",
        "Strategi:\n",
        "\n",
        "1. Deteksi: Gunakan df.isnull().sum() untuk menghitung jumlah nilai hilang di setiap kolom.\n",
        "2. Dikarenakan disini tidak ada nilai Null maka kita akan lanjut ke langkah berikutnya"
      ],
      "metadata": {
        "id": "Zpfy9NNJA0vu"
      }
    },
    {
      "cell_type": "code",
      "source": [
        "print(df.isnull().sum())"
      ],
      "metadata": {
        "colab": {
          "base_uri": "https://localhost:8080/"
        },
        "id": "5sfl2oOMA1MF",
        "outputId": "f811f32a-6fd0-4e4a-b43a-3e8779ecce6e"
      },
      "execution_count": null,
      "outputs": [
        {
          "output_type": "stream",
          "name": "stdout",
          "text": [
            "Make_Year       0\n",
            "Mileage_Kmpl    0\n",
            "Engine_CC       0\n",
            "Fuel_Type       0\n",
            "Price_USD       0\n",
            "Transmission    0\n",
            "dtype: int64\n"
          ]
        }
      ]
    },
    {
      "cell_type": "markdown",
      "source": [
        "# 2.4. Penanganan Inkonsistensi dan Konversi Tipe Data (Dataset Mobil)\n",
        "\n",
        "Konsistensi adalah kunci. Komputer menganggap \"Manual\", \"manual\", dan \"MANUAL\" sebagai tiga kategori yang berbeda. Jika tidak diseragamkan, maka analisis akan salah atau membingungkan.\n",
        "Selain itu, memastikan tipe data sudah benar—misalnya:\n",
        "\n",
        "Kolom transmission diubah dari teks menjadi angka (Manual → 0, Automatic → 1)\n",
        "\n",
        "Kolom fuel juga diubah ke angka (misalnya: Bensin → 0, Diesel → 1, Listrik → 2)\n",
        "\n",
        "Ini penting untuk efisiensi memori, kecepatan proses, dan agar data bisa dibaca dengan benar oleh algoritma machine learning."
      ],
      "metadata": {
        "id": "VJQPI6-hCsY3"
      }
    },
    {
      "cell_type": "code",
      "source": [
        "df['Transmission'] = df['Transmission'].map({'Automatic': 1, 'Manual': 0})\n",
        "\n",
        "print(\"\\nNilai unik pada kolom target setelah konversi:\")\n",
        "print(df['Transmission'].value_counts())"
      ],
      "metadata": {
        "colab": {
          "base_uri": "https://localhost:8080/"
        },
        "id": "4sQITTYyCzrv",
        "outputId": "713bca57-94e0-424b-9ec1-f6e6655a4ae1"
      },
      "execution_count": null,
      "outputs": [
        {
          "output_type": "stream",
          "name": "stdout",
          "text": [
            "\n",
            "Nilai unik pada kolom target setelah konversi:\n",
            "Transmission\n",
            "0    5985\n",
            "1    4015\n",
            "Name: count, dtype: int64\n"
          ]
        }
      ]
    },
    {
      "cell_type": "markdown",
      "source": [
        "# Tahap 3: Analisis Data Eksploratif (EDA)\n",
        "\n",
        "Mengapa Tahapan Ini Penting?\n",
        "Jika proses pembersihan data diibaratkan seperti merapikan sebuah bengkel mobil—menghilangkan oli bocor, memungut baut yang tercecer—maka EDA (Exploratory Data Analysis) adalah saat kita mulai menelusuri setiap komponen mobil, melihat bagaimana performanya, dan memahami bagaimana satu bagian mempengaruhi bagian lainnya.\n",
        "\n",
        "Pada dataset mobil yang sedang kita analisis, EDA menjadi langkah penting karena kita ingin memahami secara menyeluruh karakteristik mobil-mobil tersebut sebelum melakukan pemodelan. Beberapa tujuan utama dari EDA yang kita lakukan antara lain:\n",
        "\n",
        "Memahami Distribusi Variabel\n",
        "\n",
        "Mengidentifikasi Outlier\n",
        "\n",
        "Menemukan Hubungan Antara Variabel\n",
        "\n",
        "Menguji Asumsi\n",
        "\n",
        "Menghasilkan Hipotesis untuk Tahapan Selanjutnya"
      ],
      "metadata": {
        "id": "V7q3LeBrFRsP"
      }
    },
    {
      "cell_type": "code",
      "source": [
        "# Mengimpor pustaka untuk visualisasi\n",
        "import matplotlib.pyplot as plt\n",
        "import seaborn as sns\n",
        "\n",
        "# Mengatur gaya visualisasi agar lebih menarik\n",
        "sns.set_style('whitegrid')"
      ],
      "metadata": {
        "id": "-uRSxVGZFRUF"
      },
      "execution_count": null,
      "outputs": []
    },
    {
      "cell_type": "markdown",
      "source": [
        "# 3.1. Analisis Univariat (Menganalisis Satu Variabel)\n",
        "\n",
        "Pentingnya:\n",
        "Memahami karakteristik tiap variabel satu per satu sangat penting sebelum menganalisis hubungan antar variabel. Analisis univariat membantu:\n",
        "\n",
        "Mengetahui distribusi nilai dari suatu fitur (contoh: harga mobil).\n",
        "\n",
        "Melihat apakah nilai-nilainya tersebar normal atau tidak.\n",
        "\n",
        "Menemukan adanya pencilan (outlier).\n",
        "\n",
        "Memberi gambaran awal sebelum analisis lebih kompleks."
      ],
      "metadata": {
        "id": "4rwwluBoFzcR"
      }
    },
    {
      "cell_type": "code",
      "source": [
        "plt.figure(figsize=(14, 5))\n",
        "\n",
        "# Plot 1: Histogram untuk Price_USD\n",
        "plt.subplot(1, 2, 1)\n",
        "sns.histplot(df['Price_USD'], kde=True, bins=30)\n",
        "plt.title('Distribusi Harga Mobil (USD)')\n",
        "plt.xlabel('Harga (USD)')\n",
        "plt.ylabel('Frekuensi')\n",
        "\n",
        "# Plot 2: Box Plot untuk Price_USD\n",
        "plt.subplot(1, 2, 2)\n",
        "sns.boxplot(x=df['Price_USD'])\n",
        "plt.title('Box Plot Harga Mobil (USD)')\n",
        "plt.xlabel('Harga (USD)')\n",
        "\n",
        "plt.tight_layout()\n",
        "plt.show()\n"
      ],
      "metadata": {
        "colab": {
          "base_uri": "https://localhost:8080/",
          "height": 349
        },
        "id": "RtLNOrv7HIm1",
        "outputId": "507d44fb-0e19-4cc2-fce5-847735cf53ce"
      },
      "execution_count": null,
      "outputs": [
        {
          "output_type": "display_data",
          "data": {
            "text/plain": [
              "<Figure size 1400x500 with 2 Axes>"
            ],
            "image/png": "[encoded data removed]"
          },
          "metadata": {}
        }
      ]
    },
    {
      "cell_type": "markdown",
      "source": [
        "Interpretasi:\n",
        "Dari plot ini, kita bisa melihat jenis bahan bakar mobil yang paling umum digunakan, apakah lebih banyak mobil berbahan bakar bensin (petrol), diesel, atau jenis lainnya.\n",
        "Visualisasi ini membantu kita memahami preferensi pasar atau tren industri otomotif berdasarkan jenis bahan bakarnya."
      ],
      "metadata": {
        "id": "WtB7EotCH59e"
      }
    },
    {
      "cell_type": "code",
      "source": [
        "plt.figure(figsize=(8, 5))\n",
        "sns.countplot(y=df['Fuel_Type'], order=df['Fuel_Type'].value_counts().index)\n",
        "plt.title('Jumlah Mobil Berdasarkan Jenis Bahan Bakar')\n",
        "plt.xlabel('Jumlah Mobil')\n",
        "plt.ylabel('Jenis Bahan Bakar')\n",
        "plt.show()\n"
      ],
      "metadata": {
        "colab": {
          "base_uri": "https://localhost:8080/",
          "height": 487
        },
        "id": "-1k4FsmWH6jm",
        "outputId": "cd9ac8c6-4a43-4406-f734-9640f394f575"
      },
      "execution_count": null,
      "outputs": [
        {
          "output_type": "display_data",
          "data": {
            "text/plain": [
              "<Figure size 800x500 with 1 Axes>"
            ],
            "image/png": "[encoded data removed]"
          },
          "metadata": {}
        }
      ]
    },
    {
      "cell_type": "markdown",
      "source": [
        "# 3.2. Analisis Bivariat (Menganalisis Hubungan Dua Variabel)\n",
        "\n",
        "Pentingnya:\n",
        "Ini bagian penting dari EDA, karena kita mencoba menghubungkan fitur kategorikal (Transmission) dengan target numerik (Price_USD)."
      ],
      "metadata": {
        "id": "qB2JAUcBJRzJ"
      }
    },
    {
      "cell_type": "code",
      "source": [
        "plt.figure(figsize=(8, 6))\n",
        "sns.boxplot(x='Transmission', y='Price_USD', data=df)\n",
        "plt.title('Hubungan antara Jenis Transmisi dan Harga Mobil')\n",
        "plt.xlabel('Jenis Transmisi')\n",
        "plt.ylabel('Harga Mobil (USD)')\n",
        "plt.show()\n"
      ],
      "metadata": {
        "colab": {
          "base_uri": "https://localhost:8080/",
          "height": 564
        },
        "id": "QTn-hJOIJmHS",
        "outputId": "fd4cdd46-2319-4027-baf5-3d5050c11dae"
      },
      "execution_count": null,
      "outputs": [
        {
          "output_type": "display_data",
          "data": {
            "text/plain": [
              "<Figure size 800x600 with 1 Axes>"
            ],
            "image/png": "[encoded data removed]"
          },
          "metadata": {}
        }
      ]
    },
    {
      "cell_type": "code",
      "source": [
        "print(\"\\nInformasi struktural dataset:\")\n",
        "df.info()"
      ],
      "metadata": {
        "colab": {
          "base_uri": "https://localhost:8080/"
        },
        "id": "EbRHvR2TJszg",
        "outputId": "43fbdecc-66af-487c-e33c-f9501b5e9006"
      },
      "execution_count": null,
      "outputs": [
        {
          "output_type": "stream",
          "name": "stdout",
          "text": [
            "\n",
            "Informasi struktural dataset:\n",
            "<class 'pandas.core.frame.DataFrame'>\n",
            "RangeIndex: 10000 entries, 0 to 9999\n",
            "Data columns (total 6 columns):\n",
            " #   Column        Non-Null Count  Dtype  \n",
            "---  ------        --------------  -----  \n",
            " 0   Make_Year     10000 non-null  int64  \n",
            " 1   Mileage_Kmpl  10000 non-null  float64\n",
            " 2   Engine_CC     10000 non-null  int64  \n",
            " 3   Fuel_Type     10000 non-null  object \n",
            " 4   Price_USD     10000 non-null  float64\n",
            " 5   Transmission  10000 non-null  int64  \n",
            "dtypes: float64(2), int64(3), object(1)\n",
            "memory usage: 468.9+ KB\n"
          ]
        }
      ]
    },
    {
      "cell_type": "markdown",
      "source": [
        "Membandingkan jumlah mobil berdasarkan jenis transmisi, dan memecahnya berdasarkan kategori tertentu."
      ],
      "metadata": {
        "id": "iEaPibjsKAuP"
      }
    },
    {
      "cell_type": "code",
      "source": [
        "plt.figure(figsize=(10, 6))\n",
        "sns.countplot(y='Fuel_Type', hue='Transmission', data=df, order=df['Fuel_Type'].value_counts().index)\n",
        "plt.title('Distribusi Mobil Berdasarkan Jenis Transmisi dan Jenis Bahan Bakar')\n",
        "plt.xlabel('Jumlah Mobil')\n",
        "plt.ylabel('Jenis Transmisi')\n",
        "plt.legend(title='Jenis Bahan Bakar')\n",
        "plt.show()\n"
      ],
      "metadata": {
        "colab": {
          "base_uri": "https://localhost:8080/",
          "height": 564
        },
        "id": "HphhUx9iKBYe",
        "outputId": "17e77c50-ae42-4ef0-b57d-46741b2b269f"
      },
      "execution_count": null,
      "outputs": [
        {
          "output_type": "display_data",
          "data": {
            "text/plain": [
              "<Figure size 1000x600 with 1 Axes>"
            ],
            "image/png": "[encoded data removed]"
          },
          "metadata": {}
        }
      ]
    },
    {
      "cell_type": "markdown",
      "source": [
        "Plot ini memungkinkan kita melihat secara visual distribusi jenis transmisi (manual dan automatic) di setiap jenis bahan bakar (Fuel_Type)."
      ],
      "metadata": {
        "id": "zgIbVpcSKfaJ"
      }
    },
    {
      "cell_type": "markdown",
      "source": [
        "# 3.3. Analisis Multivariat (Melihat Banyak Variabel Sekaligus)\n",
        "\n",
        "Pentingnya: Visualisasi korelasi sangat penting dalam analisis data karena memungkinkan kita memahami hubungan kompleks antara variabel numerik dalam dataset. Dalam konteks dataset mobil, ini membantu kita mengidentifikasi variabel mana saja yang saling berkaitan — misalnya apakah mobil yang lebih baru cenderung memiliki harga lebih tinggi, atau apakah jarak tempuh mempengaruhi harga jual mobil."
      ],
      "metadata": {
        "id": "Mgg8gRfYK6BP"
      }
    },
    {
      "cell_type": "code",
      "source": [
        "import matplotlib.pyplot as plt\n",
        "import seaborn as sns\n",
        "\n",
        "# Memilih hanya kolom numerik dari dataset mobil\n",
        "numerical_cols = df.select_dtypes(include=['int64', 'float64']).columns\n",
        "\n",
        "# Membuat heatmap korelasi\n",
        "plt.figure(figsize=(12, 10))\n",
        "correlation_matrix = df[numerical_cols].corr()\n",
        "sns.heatmap(correlation_matrix, annot=True, cmap='coolwarm', fmt='.2f')\n",
        "plt.title('Heatmap Korelasi Antar Variabel Numerik pada Dataset Mobil')\n",
        "plt.show()\n"
      ],
      "metadata": {
        "colab": {
          "base_uri": "https://localhost:8080/",
          "height": 853
        },
        "id": "OkKkjnHuK2vx",
        "outputId": "a71d9c2a-7fc6-4356-a206-b293352c6c01"
      },
      "execution_count": null,
      "outputs": [
        {
          "output_type": "display_data",
          "data": {
            "text/plain": [
              "<Figure size 1200x1000 with 2 Axes>"
            ],
            "image/png": "[encoded data removed]"
          },
          "metadata": {}
        }
      ]
    },
    {
      "cell_type": "markdown",
      "source": [
        "Interpretasi:\n",
        "Heatmap ini berguna untuk:\n",
        "\n",
        "Melihat fitur mana yang paling berkorelasi dengan variabel target, yaitu Transmission.\n",
        "\n",
        "Mengetahui kekuatan hubungan antara fitur numerik (misal: Engine_CC, Mileage_Kmpl) terhadap jenis transmisi mobil.\n",
        "\n",
        "Mendeteksi korelasi tinggi antar fitur numerik lainnya yang bisa mempengaruhi hasil model jika terjadi multikolinearitas."
      ],
      "metadata": {
        "id": "Dzw0Y2iLM0UE"
      }
    },
    {
      "cell_type": "code",
      "source": [
        "# Tampilkan semua kolom tanpa dipotong\n",
        "pd.set_option('display.max_columns', None)           # Jangan batasi jumlah kolom\n",
        "pd.set_option('display.expand_frame_repr', False)    # Jangan membungkus baris\n",
        "\n",
        "# Sekarang head() akan menampilkan semua kolom\n",
        "df.head(20)"
      ],
      "metadata": {
        "colab": {
          "base_uri": "https://localhost:8080/",
          "height": 677
        },
        "id": "upXE_j-GM1gM",
        "outputId": "9271562d-4710-4182-a1b7-ef9857fc70ef"
      },
      "execution_count": null,
      "outputs": [
        {
          "output_type": "execute_result",
          "data": {
            "text/plain": [
              "    Make_Year  Mileage_Kmpl  Engine_CC Fuel_Type  Price_USD  Transmission\n",
              "0        2001          8.17       4000    Petrol    8587.64             0\n",
              "1        2014         17.59       1500    Petrol    5943.50             0\n",
              "2        2023         18.09       2500    Diesel    9273.58             1\n",
              "3        2009         11.28        800    Petrol    6836.24             0\n",
              "4        2005         12.23       1000    Petrol    4625.79             1\n",
              "5        2002         13.77       2500    Diesel    6856.03             0\n",
              "6        2023         12.50       1000    Petrol    6806.77             0\n",
              "7        2015         17.46       2000    Diesel    7701.84             0\n",
              "8        2001         14.99       5000    Diesel    8730.52             0\n",
              "9        2020         19.59       4000    Petrol   10812.16             1\n",
              "10       2013         21.25       1800    Petrol   10070.16             1\n",
              "11       2017         20.91       5000    Diesel    9638.93             0\n",
              "12       2005         15.95       2500    Petrol    5543.90             0\n",
              "13       2005         19.42        800    Petrol    5855.47             1\n",
              "14       2018         23.18       3000    Diesel    9773.77             1\n",
              "15       2015         20.23       4000    Diesel    9468.89             0\n",
              "16       1998         27.29       1800    Petrol    6491.29             1\n",
              "17       2002         22.91       2000    Diesel    6202.99             1\n",
              "18       2018         26.59       3000    Diesel    9921.66             0\n",
              "19       1997          5.54       1500    Diesel    1223.80             1"
            ],
            "text/html": [
              "\n",
              "  <div id=\"df-36bee59d-7b94-4b10-a6d1-fe1a1cd331a3\" class=\"colab-df-container\">\n",
              "    <div>\n",
              "<style scoped>\n",
              "    .dataframe tbody tr th:only-of-type {\n",
              "        vertical-align: middle;\n",
              "    }\n",
              "\n",
              "    .dataframe tbody tr th {\n",
              "        vertical-align: top;\n",
              "    }\n",
              "\n",
              "    .dataframe thead th {\n",
              "        text-align: right;\n",
              "    }\n",
              "</style>\n",
              "<table border=\"1\" class=\"dataframe\">\n",
              "  <thead>\n",
              "    <tr style=\"text-align: right;\">\n",
              "      <th></th>\n",
              "      <th>Make_Year</th>\n",
              "      <th>Mileage_Kmpl</th>\n",
              "      <th>Engine_CC</th>\n",
              "      <th>Fuel_Type</th>\n",
              "      <th>Price_USD</th>\n",
              "      <th>Transmission</th>\n",
              "    </tr>\n",
              "  </thead>\n",
              "  <tbody>\n",
              "    <tr>\n",
              "      <th>0</th>\n",
              "      <td>2001</td>\n",
              "      <td>8.17</td>\n",
              "      <td>4000</td>\n",
              "      <td>Petrol</td>\n",
              "      <td>8587.64</td>\n",
              "      <td>0</td>\n",
              "    </tr>\n",
              "    <tr>\n",
              "      <th>1</th>\n",
              "      <td>2014</td>\n",
              "      <td>17.59</td>\n",
              "      <td>1500</td>\n",
              "      <td>Petrol</td>\n",
              "      <td>5943.50</td>\n",
              "      <td>0</td>\n",
              "    </tr>\n",
              "    <tr>\n",
              "      <th>2</th>\n",
              "      <td>2023</td>\n",
              "      <td>18.09</td>\n",
              "      <td>2500</td>\n",
              "      <td>Diesel</td>\n",
              "      <td>9273.58</td>\n",
              "      <td>1</td>\n",
              "    </tr>\n",
              "    <tr>\n",
              "      <th>3</th>\n",
              "      <td>2009</td>\n",
              "      <td>11.28</td>\n",
              "      <td>800</td>\n",
              "      <td>Petrol</td>\n",
              "      <td>6836.24</td>\n",
              "      <td>0</td>\n",
              "    </tr>\n",
              "    <tr>\n",
              "      <th>4</th>\n",
              "      <td>2005</td>\n",
              "      <td>12.23</td>\n",
              "      <td>1000</td>\n",
              "      <td>Petrol</td>\n",
              "      <td>4625.79</td>\n",
              "      <td>1</td>\n",
              "    </tr>\n",
              "    <tr>\n",
              "      <th>5</th>\n",
              "      <td>2002</td>\n",
              "      <td>13.77</td>\n",
              "      <td>2500</td>\n",
              "      <td>Diesel</td>\n",
              "      <td>6856.03</td>\n",
              "      <td>0</td>\n",
              "    </tr>\n",
              "    <tr>\n",
              "      <th>6</th>\n",
              "      <td>2023</td>\n",
              "      <td>12.50</td>\n",
              "      <td>1000</td>\n",
              "      <td>Petrol</td>\n",
              "      <td>6806.77</td>\n",
              "      <td>0</td>\n",
              "    </tr>\n",
              "    <tr>\n",
              "      <th>7</th>\n",
              "      <td>2015</td>\n",
              "      <td>17.46</td>\n",
              "      <td>2000</td>\n",
              "      <td>Diesel</td>\n",
              "      <td>7701.84</td>\n",
              "      <td>0</td>\n",
              "    </tr>\n",
              "    <tr>\n",
              "      <th>8</th>\n",
              "      <td>2001</td>\n",
              "      <td>14.99</td>\n",
              "      <td>5000</td>\n",
              "      <td>Diesel</td>\n",
              "      <td>8730.52</td>\n",
              "      <td>0</td>\n",
              "    </tr>\n",
              "    <tr>\n",
              "      <th>9</th>\n",
              "      <td>2020</td>\n",
              "      <td>19.59</td>\n",
              "      <td>4000</td>\n",
              "      <td>Petrol</td>\n",
              "      <td>10812.16</td>\n",
              "      <td>1</td>\n",
              "    </tr>\n",
              "    <tr>\n",
              "      <th>10</th>\n",
              "      <td>2013</td>\n",
              "      <td>21.25</td>\n",
              "      <td>1800</td>\n",
              "      <td>Petrol</td>\n",
              "      <td>10070.16</td>\n",
              "      <td>1</td>\n",
              "    </tr>\n",
              "    <tr>\n",
              "      <th>11</th>\n",
              "      <td>2017</td>\n",
              "      <td>20.91</td>\n",
              "      <td>5000</td>\n",
              "      <td>Diesel</td>\n",
              "      <td>9638.93</td>\n",
              "      <td>0</td>\n",
              "    </tr>\n",
              "    <tr>\n",
              "      <th>12</th>\n",
              "      <td>2005</td>\n",
              "      <td>15.95</td>\n",
              "      <td>2500</td>\n",
              "      <td>Petrol</td>\n",
              "      <td>5543.90</td>\n",
              "      <td>0</td>\n",
              "    </tr>\n",
              "    <tr>\n",
              "      <th>13</th>\n",
              "      <td>2005</td>\n",
              "      <td>19.42</td>\n",
              "      <td>800</td>\n",
              "      <td>Petrol</td>\n",
              "      <td>5855.47</td>\n",
              "      <td>1</td>\n",
              "    </tr>\n",
              "    <tr>\n",
              "      <th>14</th>\n",
              "      <td>2018</td>\n",
              "      <td>23.18</td>\n",
              "      <td>3000</td>\n",
              "      <td>Diesel</td>\n",
              "      <td>9773.77</td>\n",
              "      <td>1</td>\n",
              "    </tr>\n",
              "    <tr>\n",
              "      <th>15</th>\n",
              "      <td>2015</td>\n",
              "      <td>20.23</td>\n",
              "      <td>4000</td>\n",
              "      <td>Diesel</td>\n",
              "      <td>9468.89</td>\n",
              "      <td>0</td>\n",
              "    </tr>\n",
              "    <tr>\n",
              "      <th>16</th>\n",
              "      <td>1998</td>\n",
              "      <td>27.29</td>\n",
              "      <td>1800</td>\n",
              "      <td>Petrol</td>\n",
              "      <td>6491.29</td>\n",
              "      <td>1</td>\n",
              "    </tr>\n",
              "    <tr>\n",
              "      <th>17</th>\n",
              "      <td>2002</td>\n",
              "      <td>22.91</td>\n",
              "      <td>2000</td>\n",
              "      <td>Diesel</td>\n",
              "      <td>6202.99</td>\n",
              "      <td>1</td>\n",
              "    </tr>\n",
              "    <tr>\n",
              "      <th>18</th>\n",
              "      <td>2018</td>\n",
              "      <td>26.59</td>\n",
              "      <td>3000</td>\n",
              "      <td>Diesel</td>\n",
              "      <td>9921.66</td>\n",
              "      <td>0</td>\n",
              "    </tr>\n",
              "    <tr>\n",
              "      <th>19</th>\n",
              "      <td>1997</td>\n",
              "      <td>5.54</td>\n",
              "      <td>1500</td>\n",
              "      <td>Diesel</td>\n",
              "      <td>1223.80</td>\n",
              "      <td>1</td>\n",
              "    </tr>\n",
              "  </tbody>\n",
              "</table>\n",
              "</div>\n",
              "    <div class=\"colab-df-buttons\">\n",
              "\n",
              "  <div class=\"colab-df-container\">\n",
              "    <button class=\"colab-df-convert\" onclick=\"convertToInteractive('df-36bee59d-7b94-4b10-a6d1-fe1a1cd331a3')\"\n",
              "            title=\"Convert this dataframe to an interactive table.\"\n",
              "            style=\"display:none;\">\n",
              "\n",
              "  <svg xmlns=\"http://www.w3.org/2000/svg\" height=\"24px\" viewBox=\"0 -960 960 960\">\n",
              "    <path d=\"M120-120v-720h720v720H120Zm60-500h600v-160H180v160Zm220 220h160v-160H400v160Zm0 220h160v-160H400v160ZM180-400h160v-160H180v160Zm440 0h160v-160H620v160ZM180-180h160v-160H180v160Zm440 0h160v-160H620v160Z\"/>\n",
              "  </svg>\n",
              "    </button>\n",
              "\n",
              "  <style>\n",
              "    .colab-df-container {\n",
              "      display:flex;\n",
              "      gap: 12px;\n",
              "    }\n",
              "\n",
              "    .colab-df-convert {\n",
              "      background-color: #E8F0FE;\n",
              "      border: none;\n",
              "      border-radius: 50%;\n",
              "      cursor: pointer;\n",
              "      display: none;\n",
              "      fill: #1967D2;\n",
              "      height: 32px;\n",
              "      padding: 0 0 0 0;\n",
              "      width: 32px;\n",
              "    }\n",
              "\n",
              "    .colab-df-convert:hover {\n",
              "      background-color: #E2EBFA;\n",
              "      box-shadow: 0px 1px 2px rgba(60, 64, 67, 0.3), 0px 1px 3px 1px rgba(60, 64, 67, 0.15);\n",
              "      fill: #174EA6;\n",
              "    }\n",
              "\n",
              "    .colab-df-buttons div {\n",
              "      margin-bottom: 4px;\n",
              "    }\n",
              "\n",
              "    [theme=dark] .colab-df-convert {\n",
              "      background-color: #3B4455;\n",
              "      fill: #D2E3FC;\n",
              "    }\n",
              "\n",
              "    [theme=dark] .colab-df-convert:hover {\n",
              "      background-color: #434B5C;\n",
              "      box-shadow: 0px 1px 3px 1px rgba(0, 0, 0, 0.15);\n",
              "      filter: drop-shadow(0px 1px 2px rgba(0, 0, 0, 0.3));\n",
              "      fill: #FFFFFF;\n",
              "    }\n",
              "  </style>\n",
              "\n",
              "    <script>\n",
              "      const buttonEl =\n",
              "        document.querySelector('#df-36bee59d-7b94-4b10-a6d1-fe1a1cd331a3 button.colab-df-convert');\n",
              "      buttonEl.style.display =\n",
              "        google.colab.kernel.accessAllowed ? 'block' : 'none';\n",
              "\n",
              "      async function convertToInteractive(key) {\n",
              "        const element = document.querySelector('#df-36bee59d-7b94-4b10-a6d1-fe1a1cd331a3');\n",
              "        const dataTable =\n",
              "          await google.colab.kernel.invokeFunction('convertToInteractive',\n",
              "                                                    [key], {});\n",
              "        if (!dataTable) return;\n",
              "\n",
              "        const docLinkHtml = 'Like what you see? Visit the ' +\n",
              "          '<a target=\"_blank\" href=https://colab.research.google.com/notebooks/data_table.ipynb>data table notebook</a>'\n",
              "          + ' to learn more about interactive tables.';\n",
              "        element.innerHTML = '';\n",
              "        dataTable['output_type'] = 'display_data';\n",
              "        await google.colab.output.renderOutput(dataTable, element);\n",
              "        const docLink = document.createElement('div');\n",
              "        docLink.innerHTML = docLinkHtml;\n",
              "        element.appendChild(docLink);\n",
              "      }\n",
              "    </script>\n",
              "  </div>\n",
              "\n",
              "\n",
              "    <div id=\"df-9c3a7f11-ef76-42b3-92b1-1e82bf9adaec\">\n",
              "      <button class=\"colab-df-quickchart\" onclick=\"quickchart('df-9c3a7f11-ef76-42b3-92b1-1e82bf9adaec')\"\n",
              "                title=\"Suggest charts\"\n",
              "                style=\"display:none;\">\n",
              "\n",
              "<svg xmlns=\"http://www.w3.org/2000/svg\" height=\"24px\"viewBox=\"0 0 24 24\"\n",
              "     width=\"24px\">\n",
              "    <g>\n",
              "        <path d=\"M19 3H5c-1.1 0-2 .9-2 2v14c0 1.1.9 2 2 2h14c1.1 0 2-.9 2-2V5c0-1.1-.9-2-2-2zM9 17H7v-7h2v7zm4 0h-2V7h2v10zm4 0h-2v-4h2v4z\"/>\n",
              "    </g>\n",
              "</svg>\n",
              "      </button>\n",
              "\n",
              "<style>\n",
              "  .colab-df-quickchart {\n",
              "      --bg-color: #E8F0FE;\n",
              "      --fill-color: #1967D2;\n",
              "      --hover-bg-color: #E2EBFA;\n",
              "      --hover-fill-color: #174EA6;\n",
              "      --disabled-fill-color: #AAA;\n",
              "      --disabled-bg-color: #DDD;\n",
              "  }\n",
              "\n",
              "  [theme=dark] .colab-df-quickchart {\n",
              "      --bg-color: #3B4455;\n",
              "      --fill-color: #D2E3FC;\n",
              "      --hover-bg-color: #434B5C;\n",
              "      --hover-fill-color: #FFFFFF;\n",
              "      --disabled-bg-color: #3B4455;\n",
              "      --disabled-fill-color: #666;\n",
              "  }\n",
              "\n",
              "  .colab-df-quickchart {\n",
              "    background-color: var(--bg-color);\n",
              "    border: none;\n",
              "    border-radius: 50%;\n",
              "    cursor: pointer;\n",
              "    display: none;\n",
              "    fill: var(--fill-color);\n",
              "    height: 32px;\n",
              "    padding: 0;\n",
              "    width: 32px;\n",
              "  }\n",
              "\n",
              "  .colab-df-quickchart:hover {\n",
              "    background-color: var(--hover-bg-color);\n",
              "    box-shadow: 0 1px 2px rgba(60, 64, 67, 0.3), 0 1px 3px 1px rgba(60, 64, 67, 0.15);\n",
              "    fill: var(--button-hover-fill-color);\n",
              "  }\n",
              "\n",
              "  .colab-df-quickchart-complete:disabled,\n",
              "  .colab-df-quickchart-complete:disabled:hover {\n",
              "    background-color: var(--disabled-bg-color);\n",
              "    fill: var(--disabled-fill-color);\n",
              "    box-shadow: none;\n",
              "  }\n",
              "\n",
              "  .colab-df-spinner {\n",
              "    border: 2px solid var(--fill-color);\n",
              "    border-color: transparent;\n",
              "    border-bottom-color: var(--fill-color);\n",
              "    animation:\n",
              "      spin 1s steps(1) infinite;\n",
              "  }\n",
              "\n",
              "  @keyframes spin {\n",
              "    0% {\n",
              "      border-color: transparent;\n",
              "      border-bottom-color: var(--fill-color);\n",
              "      border-left-color: var(--fill-color);\n",
              "    }\n",
              "    20% {\n",
              "      border-color: transparent;\n",
              "      border-left-color: var(--fill-color);\n",
              "      border-top-color: var(--fill-color);\n",
              "    }\n",
              "    30% {\n",
              "      border-color: transparent;\n",
              "      border-left-color: var(--fill-color);\n",
              "      border-top-color: var(--fill-color);\n",
              "      border-right-color: var(--fill-color);\n",
              "    }\n",
              "    40% {\n",
              "      border-color: transparent;\n",
              "      border-right-color: var(--fill-color);\n",
              "      border-top-color: var(--fill-color);\n",
              "    }\n",
              "    60% {\n",
              "      border-color: transparent;\n",
              "      border-right-color: var(--fill-color);\n",
              "    }\n",
              "    80% {\n",
              "      border-color: transparent;\n",
              "      border-right-color: var(--fill-color);\n",
              "      border-bottom-color: var(--fill-color);\n",
              "    }\n",
              "    90% {\n",
              "      border-color: transparent;\n",
              "      border-bottom-color: var(--fill-color);\n",
              "    }\n",
              "  }\n",
              "</style>\n",
              "\n",
              "      <script>\n",
              "        async function quickchart(key) {\n",
              "          const quickchartButtonEl =\n",
              "            document.querySelector('#' + key + ' button');\n",
              "          quickchartButtonEl.disabled = true;  // To prevent multiple clicks.\n",
              "          quickchartButtonEl.classList.add('colab-df-spinner');\n",
              "          try {\n",
              "            const charts = await google.colab.kernel.invokeFunction(\n",
              "                'suggestCharts', [key], {});\n",
              "          } catch (error) {\n",
              "            console.error('Error during call to suggestCharts:', error);\n",
              "          }\n",
              "          quickchartButtonEl.classList.remove('colab-df-spinner');\n",
              "          quickchartButtonEl.classList.add('colab-df-quickchart-complete');\n",
              "        }\n",
              "        (() => {\n",
              "          let quickchartButtonEl =\n",
              "            document.querySelector('#df-9c3a7f11-ef76-42b3-92b1-1e82bf9adaec button');\n",
              "          quickchartButtonEl.style.display =\n",
              "            google.colab.kernel.accessAllowed ? 'block' : 'none';\n",
              "        })();\n",
              "      </script>\n",
              "    </div>\n",
              "\n",
              "    </div>\n",
              "  </div>\n"
            ],
            "application/vnd.google.colaboratory.intrinsic+json": {
              "type": "dataframe",
              "variable_name": "df",
              "summary": "{\n  \"name\": \"df\",\n  \"rows\": 10000,\n  \"fields\": [\n    {\n      \"column\": \"Make_Year\",\n      \"properties\": {\n        \"dtype\": \"number\",\n        \"std\": 8,\n        \"min\": 1995,\n        \"max\": 2023,\n        \"num_unique_values\": 29,\n        \"samples\": [\n          2008,\n          2000,\n          1997\n        ],\n        \"semantic_type\": \"\",\n        \"description\": \"\"\n      }\n    },\n    {\n      \"column\": \"Mileage_Kmpl\",\n      \"properties\": {\n        \"dtype\": \"number\",\n        \"std\": 5.025486481369579,\n        \"min\": 5.0,\n        \"max\": 35.0,\n        \"num_unique_values\": 2213,\n        \"samples\": [\n          8.1,\n          27.1,\n          25.4\n        ],\n        \"semantic_type\": \"\",\n        \"description\": \"\"\n      }\n    },\n    {\n      \"column\": \"Engine_CC\",\n      \"properties\": {\n        \"dtype\": \"number\",\n        \"std\": 1291,\n        \"min\": 800,\n        \"max\": 5000,\n        \"num_unique_values\": 10,\n        \"samples\": [\n          3000,\n          1500,\n          2000\n        ],\n        \"semantic_type\": \"\",\n        \"description\": \"\"\n      }\n    },\n    {\n      \"column\": \"Fuel_Type\",\n      \"properties\": {\n        \"dtype\": \"category\",\n        \"num_unique_values\": 3,\n        \"samples\": [\n          \"Petrol\",\n          \"Diesel\",\n          \"Electric\"\n        ],\n        \"semantic_type\": \"\",\n        \"description\": \"\"\n      }\n    },\n    {\n      \"column\": \"Price_USD\",\n      \"properties\": {\n        \"dtype\": \"number\",\n        \"std\": 2795.270940344736,\n        \"min\": 1000.0,\n        \"max\": 17647.63,\n        \"num_unique_values\": 9906,\n        \"samples\": [\n          4048.04,\n          9168.78,\n          5729.1\n        ],\n        \"semantic_type\": \"\",\n        \"description\": \"\"\n      }\n    },\n    {\n      \"column\": \"Transmission\",\n      \"properties\": {\n        \"dtype\": \"number\",\n        \"std\": 0,\n        \"min\": 0,\n        \"max\": 1,\n        \"num_unique_values\": 2,\n        \"samples\": [\n          1,\n          0\n        ],\n        \"semantic_type\": \"\",\n        \"description\": \"\"\n      }\n    }\n  ]\n}"
            }
          },
          "metadata": {},
          "execution_count": 248
        }
      ]
    },
    {
      "cell_type": "markdown",
      "source": [
        "# Tahap 4: Persiapan Data untuk Pemodelan (Data Preparation for Modeling)\n",
        "Mengapa Tahapan Ini Penting?\n",
        "Dalam machine learning, algoritma tidak dapat memahami data dalam bentuk teks seperti \"Automatic\", \"Manual\", atau \"Diesel\", \"Petrol\", dan sebagainya. Semua input harus dikonversi menjadi angka karena algoritma hanyalah serangkaian fungsi matematis. Oleh karena itu, kita perlu mengubah semua fitur kategorikal menjadi format numerik. Selain itu, untuk memastikan evaluasi model yang adil dan akurat, kita juga perlu membagi data menjadi dua bagian: data latih (untuk melatih model) dan data uji (untuk mengevaluasi kinerjanya). Proses ini memastikan bahwa model dapat menggeneralisasi dan tidak hanya menghafal data"
      ],
      "metadata": {
        "id": "zW_RHEuwOXtK"
      }
    },
    {
      "cell_type": "markdown",
      "source": [
        "# Tahap 4.1: Encoding Variabel Kategorikal\n",
        "\n",
        "Mengapa Tahapan Ini Penting?\n",
        "Dalam dataset, beberapa kolom memiliki data dalam bentuk kategori teks, seperti Fuel_Type yang berisi nilai seperti Petrol, Diesel, atau Electric.\n",
        "Namun, algoritma machine learning hanya memahami angka, bukan teks. Oleh karena itu, kita perlu mengubah kategori tersebut menjadi representasi numerik."
      ],
      "metadata": {
        "id": "v0fSHZchOcmI"
      }
    },
    {
      "cell_type": "code",
      "source": [
        "# Cek nilai unik dan missing value pada kolom Fuel_Type\n",
        "print(\"Kategori unik pada kolom Fuel_Type:\", df['Fuel_Type'].unique())\n",
        "if df['Fuel_Type'].isnull().any():\n",
        "    print(\"Terdapat missing value pada kolom Fuel_Type, akan diisi dengan 'Unknown'\")\n",
        "    df['Fuel_Type'].fillna('Unknown', inplace=True)\n",
        "\n",
        "# One-Hot Encoding pada kolom Fuel_Type\n",
        "# Kami akan melakukan ini setelah pemisahan data agar tidak terjadi data leakage\n",
        "# Tapi untuk contoh ini, kita lakukan encoding di awal untuk kemudahan\n",
        "df_encoded = pd.get_dummies(df, columns=['Fuel_Type'], drop_first=False)\n",
        "\n",
        "# Tampilkan info hasil encoding\n",
        "print(\"\\nKolom setelah One-Hot Encoding:\", df_encoded.columns.tolist())\n",
        "print(\"Dimensi dataset setelah encoding:\", df_encoded.shape)\n",
        "print(\"\\n5 Data teratas setelah encoding:\")\n",
        "print(df_encoded.head())"
      ],
      "metadata": {
        "colab": {
          "base_uri": "https://localhost:8080/"
        },
        "id": "UpwOd6SWPF80",
        "outputId": "e8eb9a7d-17f4-4131-ba3e-00e50f45a080"
      },
      "execution_count": null,
      "outputs": [
        {
          "output_type": "stream",
          "name": "stdout",
          "text": [
            "Kategori unik pada kolom Fuel_Type: ['Petrol' 'Diesel' 'Electric']\n",
            "\n",
            "Kolom setelah One-Hot Encoding: ['Make_Year', 'Mileage_Kmpl', 'Engine_CC', 'Price_USD', 'Transmission', 'Fuel_Type_Diesel', 'Fuel_Type_Electric', 'Fuel_Type_Petrol']\n",
            "Dimensi dataset setelah encoding: (10000, 8)\n",
            "\n",
            "5 Data teratas setelah encoding:\n",
            "   Make_Year  Mileage_Kmpl  Engine_CC  Price_USD  Transmission  Fuel_Type_Diesel  Fuel_Type_Electric  Fuel_Type_Petrol\n",
            "0       2001          8.17       4000    8587.64             0             False               False              True\n",
            "1       2014         17.59       1500    5943.50             0             False               False              True\n",
            "2       2023         18.09       2500    9273.58             1              True               False             False\n",
            "3       2009         11.28        800    6836.24             0             False               False              True\n",
            "4       2005         12.23       1000    4625.79             1             False               False              True\n"
          ]
        }
      ]
    },
    {
      "cell_type": "markdown",
      "source": [
        "# 4.2. Pemisahan Fitur (X) dan Target (y)\n",
        "\n",
        "Pentingnya:\n",
        "Pemisahan ini penting untuk memisahkan antara fitur-fitur yang akan digunakan untuk memprediksi (X) dan label atau target yang ingin diprediksi (y).\n",
        "Dalam kasus ini, kita ingin memprediksi jenis bahan bakar (Fuel_Type) berdasarkan fitur lainnya seperti Year, dll."
      ],
      "metadata": {
        "id": "2nIVDoMDQD1y"
      }
    },
    {
      "cell_type": "code",
      "source": [
        "# Memisahkan fitur (X) dan target (y) dari data yang sudah di-encoded\n",
        "# 'Transmission' adalah target, dan semua kolom lainnya adalah fitur\n",
        "X = df_encoded.drop('Transmission', axis=1)\n",
        "y = df_encoded['Transmission']\n",
        "\n",
        "# Menampilkan bentuk/ukuran data fitur dan target\n",
        "print(\"Bentuk fitur (X):\", X.shape)\n",
        "print(\"Bentuk target (y):\", y.shape)\n",
        "\n",
        "# Menampilkan 5 data pertama sebagai contoh\n",
        "print(\"\\nContoh data fitur (X):\")\n",
        "print(X.head())\n",
        "print(\"\\nContoh data target (y):\")\n",
        "print(y.head())"
      ],
      "metadata": {
        "colab": {
          "base_uri": "https://localhost:8080/"
        },
        "id": "-No70g0fQL92",
        "outputId": "99729d65-6bdc-49cd-ab53-ada0a37816d7"
      },
      "execution_count": null,
      "outputs": [
        {
          "output_type": "stream",
          "name": "stdout",
          "text": [
            "Bentuk fitur (X): (10000, 7)\n",
            "Bentuk target (y): (10000,)\n",
            "\n",
            "Contoh data fitur (X):\n",
            "   Make_Year  Mileage_Kmpl  Engine_CC  Price_USD  Fuel_Type_Diesel  Fuel_Type_Electric  Fuel_Type_Petrol\n",
            "0       2001          8.17       4000    8587.64             False               False              True\n",
            "1       2014         17.59       1500    5943.50             False               False              True\n",
            "2       2023         18.09       2500    9273.58              True               False             False\n",
            "3       2009         11.28        800    6836.24             False               False              True\n",
            "4       2005         12.23       1000    4625.79             False               False              True\n",
            "\n",
            "Contoh data target (y):\n",
            "0    0\n",
            "1    0\n",
            "2    1\n",
            "3    0\n",
            "4    1\n",
            "Name: Transmission, dtype: int64\n"
          ]
        }
      ]
    },
    {
      "cell_type": "markdown",
      "source": [
        "# 4.3. Pembagian Data Latih dan Data Uji (Train-Test Split)\n",
        "\n",
        "Pentingnya: Ini adalah langkah paling fundamental dalam validasi model. Kita melatih model pada data latih dan kemudian menguji kinerjanya pada data uji yang belum pernah \"dilihat\" sebelumnya. Ini mensimulasikan bagaimana model akan berkinerja di dunia nyata dan membantu kita mendeteksi overfitting (ketika model terlalu hafal data latih dan buruk pada data baru).\n",
        "\n",
        "Strategi: Menggunakan fungsi train_test_split dari scikit-learn. Proporsi umum adalah 80% untuk data latih dan 20% untuk data uji."
      ],
      "metadata": {
        "id": "7aFVCRMdQ6e1"
      }
    },
    {
      "cell_type": "code",
      "source": [
        "from sklearn.model_selection import train_test_split\n",
        "\n",
        "X_train, X_test, y_train, y_test = train_test_split(\n",
        "    X, y,\n",
        "    test_size=0.2,\n",
        "    random_state=42,\n",
        "    stratify=y\n",
        ")\n",
        "\n",
        "print(\"Ukuran data latih:\", X_train.shape)\n",
        "print(\"Ukuran data uji:\", X_test.shape)"
      ],
      "metadata": {
        "colab": {
          "base_uri": "https://localhost:8080/"
        },
        "id": "_mdoXe6QQ4oE",
        "outputId": "5868be8b-523d-4b6e-e9f6-86643703f18d"
      },
      "execution_count": null,
      "outputs": [
        {
          "output_type": "stream",
          "name": "stdout",
          "text": [
            "Ukuran data latih: (8000, 7)\n",
            "Ukuran data uji: (2000, 7)\n"
          ]
        }
      ]
    },
    {
      "cell_type": "code",
      "source": [
        "print(\"Isi numerical_cols:\", numerical_cols)\n",
        "print(\"Kolom yang tersedia:\", X_train.columns.tolist())\n"
      ],
      "metadata": {
        "colab": {
          "base_uri": "https://localhost:8080/"
        },
        "id": "oIvsuciNV7tq",
        "outputId": "553988fc-60fc-4631-fbab-8248d11978f1"
      },
      "execution_count": null,
      "outputs": [
        {
          "output_type": "stream",
          "name": "stdout",
          "text": [
            "Isi numerical_cols: Index(['Make_Year', 'Mileage_Kmpl', 'Engine_CC', 'Price_USD', 'Transmission'], dtype='object')\n",
            "Kolom yang tersedia: ['Make_Year', 'Mileage_Kmpl', 'Engine_CC', 'Price_USD', 'Fuel_Type_Diesel', 'Fuel_Type_Electric', 'Fuel_Type_Petrol']\n"
          ]
        }
      ]
    },
    {
      "cell_type": "markdown",
      "source": [
        "# 4.4. Penskalaan Fitur (Feature Scaling)\n",
        "Pentingnya:\n",
        "Beberapa algoritma machine learning seperti Regresi Logistik, SVM, dan KNN sangat sensitif terhadap skala numerik antar fitur. Dalam dataset ini, fitur-fitur seperti Engine_CC (misalnya bernilai ribuan) dan Mileage_Kmpl (biasanya bernilai belasan hingga puluhan) memiliki skala yang sangat berbeda. Tanpa proses penskalaan, algoritma bisa lebih memprioritaskan fitur yang nilainya besar (seperti Price_USD atau Engine_CC) hanya karena skala nilainya, bukan karena pentingnya informasi.\n",
        "\n",
        "Strategi:\n",
        "Untuk menghindari bias akibat skala yang berbeda, kita melakukan penskalaan menggunakan StandardScaler dari scikit-learn, yaitu teknik standarisasi dengan cara mengubah data menjadi distribusi dengan rata-rata 0 dan standar deviasi 1."
      ],
      "metadata": {
        "id": "d138zJtbQ-r6"
      }
    },
    {
      "cell_type": "code",
      "source": [
        "from sklearn.preprocessing import StandardScaler\n",
        "\n",
        "# Inisialisasi scaler\n",
        "scaler = StandardScaler()\n",
        "\n",
        "# Pilih kolom numerik yang perlu di-scale (kolom biner dari encoding tidak perlu)\n",
        "numerical_cols = ['Make_Year', 'Mileage_Kmpl', 'Engine_CC', 'Price_USD']\n",
        "categorical_cols = ['Fuel_Type_Diesel', 'Fuel_Type_Petrol'] # Tambahkan kolom hasil encoding lainnya jika ada\n",
        "\n",
        "# Scaling data numerik di data latih dan uji\n",
        "X_train_scaled = scaler.fit_transform(X_train[numerical_cols])\n",
        "X_test_scaled = scaler.transform(X_test[numerical_cols])\n",
        "\n",
        "# Gabungkan kembali data numerik yang sudah di-scale dengan data kategorikal yang tidak di-scale\n",
        "X_train_final = pd.DataFrame(X_train_scaled, index=X_train.index, columns=numerical_cols)\n",
        "X_test_final = pd.DataFrame(X_test_scaled, index=X_test.index, columns=numerical_cols)\n",
        "\n",
        "# Tambahkan kembali kolom kategorikal ke DataFrame final\n",
        "X_train_final = pd.concat([X_train_final, X_train[categorical_cols]], axis=1)\n",
        "X_test_final = pd.concat([X_test_final, X_test[categorical_cols]], axis=1)\n",
        "\n",
        "print(\"\\nData siap untuk pemodelan.\")\n",
        "print(\"\\nContoh data latih final:\")\n",
        "print(X_train_final.head())"
      ],
      "metadata": {
        "colab": {
          "base_uri": "https://localhost:8080/"
        },
        "id": "WmZWqsnjZ0tC",
        "outputId": "af228faa-46dd-4efd-90d8-d8e6c8b8570b"
      },
      "execution_count": null,
      "outputs": [
        {
          "output_type": "stream",
          "name": "stdout",
          "text": [
            "\n",
            "Data siap untuk pemodelan.\n",
            "\n",
            "Contoh data latih final:\n",
            "      Make_Year  Mileage_Kmpl  Engine_CC  Price_USD  Fuel_Type_Diesel  Fuel_Type_Petrol\n",
            "3987  -0.149369     -0.111785  -1.151562  -0.367575              True             False\n",
            "7979   0.209009      1.283175  -0.995973  -0.843136              True             False\n",
            "2653   0.686848     -0.594043   0.170944   0.296010             False              True\n",
            "8711  -0.388288      0.488048   0.170944  -0.043197              True             False\n",
            "9445   0.806307      1.042046  -0.218029   0.410292              True             False\n"
          ]
        }
      ]
    },
    {
      "cell_type": "markdown",
      "source": [
        "#Tahap 5: Pemilihan dan Pelatihan Model\n",
        "\n",
        "Mengapa Tahapan Ini Penting?\n",
        "\n",
        "Tidak ada satu model yang sempurna untuk semua masalah. Dengan melatih beberapa jenis model yang berbeda, kita dapat membandingkan kekuatan dan kelemahan masing-masing dan memilih yang paling sesuai untuk kasus penggunaan kita.\n",
        "\n",
        "Strategi Pemilihan Model:\n",
        "\n",
        "Kita akan mencoba tiga kandidat kuat untuk masalah klasifikasi biner ini:\n",
        "\n",
        "Regresi Logistik (Logistic Regression): Model yang sederhana, cepat, dan sangat mudah diinterpretasikan. Ini adalah baseline yang sangat baik untuk memulai.\n",
        "\n",
        "Random Forest Classifier: Model ensemble yang kuat, terdiri dari banyak \"pohon keputusan\". Sangat baik dalam menangani hubungan non-linear dan memberikan metrik \"pentingnya fitur\".\n",
        "\n",
        "Gradient Boosting Classifier (LightGBM): Model ensemble canggih yang seringkali memberikan akurasi tertinggi. Bekerja dengan membangun pohon secara berurutan, di mana setiap pohon baru mencoba memperbaiki kesalahan pohon sebelumnya.\n",
        "\n",
        "Implementasi Pelatihan:"
      ],
      "metadata": {
        "id": "ET1L5JGTSJvm"
      }
    },
    {
      "cell_type": "code",
      "source": [
        "from sklearn.linear_model import LogisticRegression\n",
        "from sklearn.ensemble import RandomForestClassifier\n",
        "import lightgbm as lgb\n",
        "\n",
        "# Inisialisasi model\n",
        "log_reg = LogisticRegression(random_state=42)\n",
        "random_forest = RandomForestClassifier(random_state=42)\n",
        "lgbm = lgb.LGBMClassifier(random_state=42)\n",
        "\n",
        "# Melatih model pada data latih yang sudah diproses\n",
        "print(\"Melatih model Regresi Logistik...\")\n",
        "log_reg.fit(X_train_final, y_train)\n",
        "\n",
        "print(\"Melatih model Random Forest...\")\n",
        "random_forest.fit(X_train_final, y_train)\n",
        "\n",
        "print(\"Melatih model LightGBM...\")\n",
        "lgbm.fit(X_train_final, y_train)\n",
        "\n",
        "print(\"\\nSemua model telah berhasil dilatih.\")"
      ],
      "metadata": {
        "colab": {
          "base_uri": "https://localhost:8080/"
        },
        "id": "VUBqKBpBZEmr",
        "outputId": "c5d24e05-75a8-4098-8daf-4f7d0b705243"
      },
      "execution_count": null,
      "outputs": [
        {
          "output_type": "stream",
          "name": "stdout",
          "text": [
            "Melatih model Regresi Logistik...\n",
            "Melatih model Random Forest...\n",
            "Melatih model LightGBM...\n",
            "[LightGBM] [Info] Number of positive: 3212, number of negative: 4788\n",
            "[LightGBM] [Info] Auto-choosing col-wise multi-threading, the overhead of testing was 0.000612 seconds.\n",
            "You can set `force_col_wise=true` to remove the overhead.\n",
            "[LightGBM] [Info] Total Bins 555\n",
            "[LightGBM] [Info] Number of data points in the train set: 8000, number of used features: 6\n",
            "[LightGBM] [Info] [binary:BoostFromScore]: pavg=0.401500 -> initscore=-0.399219\n",
            "[LightGBM] [Info] Start training from score -0.399219\n",
            "\n",
            "Semua model telah berhasil dilatih.\n"
          ]
        }
      ]
    },
    {
      "cell_type": "code",
      "source": [
        "from sklearn.metrics import classification_report, confusion_matrix, accuracy_score\n",
        "\n",
        "# Membuat prediksi pada data uji\n",
        "y_pred_log_reg = log_reg.predict(X_test_final)\n",
        "y_pred_rf = random_forest.predict(X_test_final)\n",
        "y_pred_lgbm = lgbm.predict(X_test_final)\n",
        "\n",
        "# Mengevaluasi setiap model\n",
        "print(\"--- Laporan Klasifikasi: Regresi Logistik ---\")\n",
        "print(classification_report(y_test, y_pred_log_reg))\n",
        "\n",
        "print(\"\\n--- Laporan Klasifikasi: Random Forest ---\")\n",
        "print(classification_report(y_test, y_pred_rf))\n",
        "\n",
        "print(\"\\n--- Laporan Klasifikasi: LightGBM ---\")\n",
        "print(classification_report(y_test, y_pred_lgbm))"
      ],
      "metadata": {
        "colab": {
          "base_uri": "https://localhost:8080/"
        },
        "id": "X66NU0lygm6G",
        "outputId": "16c6f3af-e197-4638-f408-0229bc2be3fd"
      },
      "execution_count": null,
      "outputs": [
        {
          "output_type": "stream",
          "name": "stdout",
          "text": [
            "--- Laporan Klasifikasi: Regresi Logistik ---\n",
            "              precision    recall  f1-score   support\n",
            "\n",
            "           0       0.60      1.00      0.75      1197\n",
            "           1       0.00      0.00      0.00       803\n",
            "\n",
            "    accuracy                           0.60      2000\n",
            "   macro avg       0.30      0.50      0.37      2000\n",
            "weighted avg       0.36      0.60      0.45      2000\n",
            "\n",
            "\n",
            "--- Laporan Klasifikasi: Random Forest ---\n",
            "              precision    recall  f1-score   support\n",
            "\n",
            "           0       0.60      0.75      0.67      1197\n",
            "           1       0.42      0.26      0.32       803\n",
            "\n",
            "    accuracy                           0.56      2000\n",
            "   macro avg       0.51      0.51      0.50      2000\n",
            "weighted avg       0.53      0.56      0.53      2000\n",
            "\n",
            "\n",
            "--- Laporan Klasifikasi: LightGBM ---\n",
            "              precision    recall  f1-score   support\n",
            "\n",
            "           0       0.59      0.86      0.70      1197\n",
            "           1       0.35      0.12      0.17       803\n",
            "\n",
            "    accuracy                           0.56      2000\n",
            "   macro avg       0.47      0.49      0.44      2000\n",
            "weighted avg       0.50      0.56      0.49      2000\n",
            "\n"
          ]
        },
        {
          "output_type": "stream",
          "name": "stderr",
          "text": [
            "/usr/local/lib/python3.11/dist-packages/sklearn/metrics/_classification.py:1565: UndefinedMetricWarning: Precision is ill-defined and being set to 0.0 in labels with no predicted samples. Use `zero_division` parameter to control this behavior.\n",
            "  _warn_prf(average, modifier, f\"{metric.capitalize()} is\", len(result))\n",
            "/usr/local/lib/python3.11/dist-packages/sklearn/metrics/_classification.py:1565: UndefinedMetricWarning: Precision is ill-defined and being set to 0.0 in labels with no predicted samples. Use `zero_division` parameter to control this behavior.\n",
            "  _warn_prf(average, modifier, f\"{metric.capitalize()} is\", len(result))\n",
            "/usr/local/lib/python3.11/dist-packages/sklearn/metrics/_classification.py:1565: UndefinedMetricWarning: Precision is ill-defined and being set to 0.0 in labels with no predicted samples. Use `zero_division` parameter to control this behavior.\n",
            "  _warn_prf(average, modifier, f\"{metric.capitalize()} is\", len(result))\n"
          ]
        }
      ]
    },
    {
      "cell_type": "code",
      "source": [
        "print(classification_report(y_test, y_pred_log_reg, zero_division=0))"
      ],
      "metadata": {
        "colab": {
          "base_uri": "https://localhost:8080/"
        },
        "id": "_Say9kWYgoX4",
        "outputId": "9255ed23-0e34-4c45-e980-0ed6cb33aa4a"
      },
      "execution_count": null,
      "outputs": [
        {
          "output_type": "stream",
          "name": "stdout",
          "text": [
            "              precision    recall  f1-score   support\n",
            "\n",
            "           0       0.60      1.00      0.75      1197\n",
            "           1       0.00      0.00      0.00       803\n",
            "\n",
            "    accuracy                           0.60      2000\n",
            "   macro avg       0.30      0.50      0.37      2000\n",
            "weighted avg       0.36      0.60      0.45      2000\n",
            "\n"
          ]
        }
      ]
    },
    {
      "cell_type": "code",
      "source": [
        "# Mendapatkan pentingnya fitur dari model Random Forest\n",
        "feature_importances = pd.DataFrame({\n",
        "    'feature': X_train_final.columns,\n",
        "    'importance': random_forest.feature_importances_\n",
        "}).sort_values('importance', ascending=False)\n",
        "\n",
        "# Visualisasi 10 fitur terpenting\n",
        "plt.figure(figsize=(10, 8))\n",
        "sns.barplot(x='importance', y='feature', data=feature_importances.head(10))\n",
        "plt.title('10 Fitur Paling Penting Menurut Random Forest')\n",
        "plt.xlabel('Pentingnya Fitur')\n",
        "plt.ylabel('Fitur')\n",
        "plt.show()"
      ],
      "metadata": {
        "colab": {
          "base_uri": "https://localhost:8080/",
          "height": 718
        },
        "id": "isB5OlbBgu13",
        "outputId": "4b359777-10c1-4ee2-e3e7-39223e869714"
      },
      "execution_count": null,
      "outputs": [
        {
          "output_type": "display_data",
          "data": {
            "text/plain": [
              "<Figure size 1000x800 with 1 Axes>"
            ],
            "image/png": "[encoded data removed]"
          },
          "metadata": {}
        }
      ]
    }
  ]
}